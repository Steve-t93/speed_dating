{
 "cells": [
  {
   "cell_type": "code",
   "execution_count": 1,
   "id": "bbb648b0-0600-48a1-b650-f13ad56804cf",
   "metadata": {},
   "outputs": [],
   "source": [
    "import os\n",
    "import pandas as pd\n",
    "import numpy as np\n",
    "import matplotlib.pyplot as plt\n",
    "import seaborn as sns\n",
    "import plotly.express as px"
   ]
  },
  {
   "cell_type": "code",
   "execution_count": 2,
   "id": "197cdade-d0b2-46ec-ab07-7a2efae62996",
   "metadata": {},
   "outputs": [
    {
     "name": "stdout",
     "output_type": "stream",
     "text": [
      "total of rows: 8378\n",
      "total of columns: 195\n",
      "Percentage of missing values by column: \n"
     ]
    },
    {
     "data": {
      "text/plain": [
       "iid          0.000000\n",
       "id           0.011936\n",
       "gender       0.000000\n",
       "idg          0.000000\n",
       "condtn       0.000000\n",
       "              ...    \n",
       "attr5_3     75.936978\n",
       "sinc5_3     75.936978\n",
       "intel5_3    75.936978\n",
       "fun5_3      75.936978\n",
       "amb5_3      75.936978\n",
       "Length: 195, dtype: float64"
      ]
     },
     "execution_count": 2,
     "metadata": {},
     "output_type": "execute_result"
    }
   ],
   "source": [
    "sp = pd.read_csv(\"SRC_projects/Speed Dating Data.csv\", encoding= \"unicode_escape\") #encoding= \"unicode_escape\" nous permet ici de lire le dataset, l'encodage par défaut est UTF-8\n",
    "\n",
    "print(\"total of rows: {}\".format(sp.shape[0]))\n",
    "print(\"total of columns: {}\".format(sp.shape[1]))\n",
    "print(\"Percentage of missing values by column: \")\n",
    "(sp.isnull().sum()*100)/sp.shape[0]"
   ]
  },
  {
   "cell_type": "code",
   "execution_count": 3,
   "id": "fe50931d-91b1-4c63-b083-06d0bda0256a",
   "metadata": {},
   "outputs": [],
   "source": [
    "missing_values = sp.isnull().sum()*100/sp.shape[0]\n",
    "\n",
    "drop_liste = []\n",
    "for key, value in missing_values.iteritems():\n",
    "    if value > 30.0:\n",
    "        drop_liste.append(key)\n",
    "\n",
    "drop_liste #nous allons supprimer ces colonnes qui ne nous serviriont pas pour notre analyse\n",
    "\n",
    "sp = sp.drop(drop_liste, axis=1)"
   ]
  },
  {
   "cell_type": "code",
   "execution_count": 4,
   "id": "b166870a-f2ba-46dd-b4e0-2214cf28e9fc",
   "metadata": {},
   "outputs": [],
   "source": [
    "# Après avoir fait un premier tour des colonnes, j'ai listé les colonnes que je souhaite déjà supprimer, car elles ne me seront pas utiles pour mon analyse.\n",
    "columns_to_drop = [\n",
    "    \"positin1\",\n",
    "    \"field_cd\",\n",
    "    \"zipcode\",\n",
    "    \"career_c\"\n",
    "] #elles sont soit déja représenté par une autre colonne, soit inutile selon moi pour la future analyse\n",
    "sp = sp.drop(columns_to_drop, axis=1)"
   ]
  },
  {
   "cell_type": "code",
   "execution_count": 5,
   "id": "7964223a-15e4-4e2d-8a40-f6bbcfe78ebc",
   "metadata": {},
   "outputs": [],
   "source": [
    "sp.columns = sp.columns.map(lambda x: x.capitalize()) # je rajoute une majuscule sur chaque nom de colonne\n",
    "\n",
    "#les colonnes inutiles supprimées, je décide de couper mon dataset et de procéder à un nettoyage:\n",
    "#renommer les colonnes pour plus de clarté\n",
    "#remplacer certaines valeurs numériques par leur réelle signification\n",
    "#nettoyage des 62 premières colonne\n",
    "sp = sp.rename(columns={     \n",
    "    \"Condtn\":\"Condition\",\n",
    "    \"Pid\":\"Partner iid\",\n",
    "    \"Int_corr\":\"Correlation of interests\",\n",
    "    \"Age_o\":\"Partner age\",\n",
    "    \"Race_o\":\"Partner race\",\n",
    "    \"Dec_o\": \"Partner decision\",\n",
    "}) \n",
    "\n",
    "sp[\"Gender\"] = sp[\"Gender\"].replace({0:\"Female\", 1:\"Male\"})\n",
    "sp[\"Condition\"] = sp[\"Condition\"].replace({1:\"limited choice\", 2:\"extensive choice\"})\n",
    "sp['Match'] = sp['Match'].replace({0:\"no\", 1:\"yes\"}) # colonne match\n",
    "sp[\"Samerace\"] = sp[\"Samerace\"].replace({0:\"no\", 1:\"yes\"}) #samerace\n",
    "sp[\"Partner decision\"] = sp[\"Partner decision\"].replace({0:\"no\", 1:\"yes\"})\n",
    "sp[\"Dec\"] = sp[\"Dec\"].replace({0:\"no\",1:\"yes\"})"
   ]
  },
  {
   "cell_type": "code",
   "execution_count": 6,
   "id": "15fe9b51-2294-42d2-b713-6fe82901e00d",
   "metadata": {},
   "outputs": [],
   "source": [
    "sp['Partner race'] = sp['Partner race'].replace({1:\"Black/African American\",\n",
    "                                                 2:\"European/Caucasian-American\",\n",
    "                                                 3:\"Latino/Hispanic American\",\n",
    "                                                 4:\"Asian/Pacific Islander/Asian-American\",\n",
    "                                                 5:\"Native American\",\n",
    "                                                 6:\"Other\"})\n",
    "\n",
    "\n",
    "sp['Race'] = sp['Race'].replace({1:\"Black/African American\",\n",
    "                                 2:\"European/Caucasian-American\",\n",
    "                                 3:\"Latino/Hispanic American\",\n",
    "                                 4:\"Asian/Pacific Islander/Asian-American\",\n",
    "                                 5:\"Native American\",\n",
    "                                 6:\"Other\"})\n",
    "\n",
    "sp[\"Goal\"] = sp[\"Goal\"].replace({1:\"Seemed like a fun night out\",\n",
    "                                 2:\"To meet new people\",\n",
    "                                 3:\"To get a date\",\n",
    "                                 4:\"Looking for a serious relationship\",\n",
    "                                 5:\"To say I did it\",\n",
    "                                 6:\"Other\"}) \n",
    "\n",
    "sp[\"Date\"] = sp[\"Date\"].replace({1:\"Several times a week\",\n",
    "                                2:\"Twice a week\",\n",
    "                                3:\"Once a week\",\n",
    "                                4:\"Twice a month\",\n",
    "                                5:\"Once a month\",\n",
    "                                6:\"Several times a year\",\n",
    "                                7:\"Almost never\"})\n",
    "\n",
    "sp[\"Go_out\"] = sp[\"Go_out\"].replace({1:\"Several times a week\",\n",
    "                                2:\"Twice a week\",\n",
    "                                3:\"Once a week\",\n",
    "                                4:\"Twice a month\",\n",
    "                                5:\"Once a month\",\n",
    "                                6:\"Several times a year\",\n",
    "                                7:\"Almost never\"})\n"
   ]
  },
  {
   "cell_type": "code",
   "execution_count": 7,
   "id": "960fef51-da86-4b19-ac77-8b7511407cc6",
   "metadata": {},
   "outputs": [],
   "source": [
    "sp['Id'] = sp['Id'].astype(\"Int64\")\n",
    "sp[\"Partner iid\"] = sp[\"Partner iid\"].astype(\"Int64\") \n",
    "#astype(int) ne fonctionne pas car nous avons des valeurs manquantes\n",
    " #\"Int64\" fonctionne\n",
    "sp[\"Partner age\"] = sp[\"Partner age\"].astype(\"Int64\")\n",
    "sp['Age'] = sp['Age'].astype(\"Int64\")\n",
    "sp[\"Imprace\"] = sp[\"Imprace\"].astype(\"Int64\")\n",
    "sp[\"Imprelig\"] = sp[\"Imprelig\"].astype(\"Int64\")"
   ]
  },
  {
   "cell_type": "code",
   "execution_count": 8,
   "id": "72155e9e-ff71-44e3-ad16-1006b0e9f342",
   "metadata": {},
   "outputs": [
    {
     "name": "stdout",
     "output_type": "stream",
     "text": [
      "Nombre de sujets au total: 552\n",
      "Nombre de sujets par groupe de genre: 44\n",
      "Nombre de sujets par vague: 22\n",
      "nombre de vagues: 21\n"
     ]
    }
   ],
   "source": [
    "print(f\"Nombre de sujets au total: {sp['Iid'].max()}\")\n",
    "print(f\"Nombre de sujets par groupe de genre: {sp['Idg'].max()}\")\n",
    "print(f\"Nombre de sujets par vague: {sp['Id'].max()}\")\n",
    "print(f\"nombre de vagues: {sp['Wave'].max()}\")"
   ]
  },
  {
   "cell_type": "code",
   "execution_count": 9,
   "id": "a5322f91-2f67-49cf-9e86-32e614b1db60",
   "metadata": {},
   "outputs": [
    {
     "data": {
      "text/plain": [
       "Wave\n",
       "1     10\n",
       "2     19\n",
       "3     10\n",
       "4     18\n",
       "5      9\n",
       "6      5\n",
       "7     16\n",
       "8     10\n",
       "9     20\n",
       "10     9\n",
       "11    21\n",
       "12    14\n",
       "13    10\n",
       "14    20\n",
       "15    18\n",
       "16     6\n",
       "17    10\n",
       "18     6\n",
       "19    15\n",
       "20     6\n",
       "21    22\n",
       "Name: Id, dtype: int64"
      ]
     },
     "execution_count": 9,
     "metadata": {},
     "output_type": "execute_result"
    }
   ],
   "source": [
    "nbre_femmes_per_vague = sp[sp['Gender'] == 'Female'].groupby('Wave')['Id'].nunique()\n",
    "nbre_femmes_per_vague"
   ]
  },
  {
   "cell_type": "code",
   "execution_count": 10,
   "id": "2ddba9ef-17a0-4ada-9b30-d83743edf968",
   "metadata": {
    "tags": []
   },
   "outputs": [],
   "source": [
    "nbre_hommes_per_vague = sp[sp['Gender'] == 'Male'].groupby('Wave')['Id'].nunique()"
   ]
  },
  {
   "cell_type": "code",
   "execution_count": 11,
   "id": "d1d32a6f-c633-46e7-98c6-732669ef963e",
   "metadata": {},
   "outputs": [
    {
     "data": {
      "text/plain": [
       "<matplotlib.legend.Legend at 0x7ffb14885820>"
      ]
     },
     "execution_count": 11,
     "metadata": {},
     "output_type": "execute_result"
    },
    {
     "data": {
      "image/png": "[encoded data removed]",
      "text/plain": [
       "<Figure size 1152x576 with 1 Axes>"
      ]
     },
     "metadata": {
      "needs_background": "light"
     },
     "output_type": "display_data"
    }
   ],
   "source": [
    "plt.figure(figsize=(16,8))\n",
    "ind = np.arange(len(nbre_femmes_per_vague))\n",
    "width = 0.25\n",
    "plt.bar(ind - width/2, nbre_femmes_per_vague.values, width, color='SkyBlue', label='♀ par vague')\n",
    "plt.bar(ind + width/2, nbre_hommes_per_vague.values, width, color='Red', label='♂ par vague')\n",
    "\n",
    "plt.ylabel(\"Nombre d'hommes et de femmes\")\n",
    "plt.xlabel(\"Vagues\")\n",
    "plt.title(\"Nombre d'hommes et de femmes par vague\")\n",
    "plt.legend()"
   ]
  },
  {
   "cell_type": "code",
   "execution_count": 12,
   "id": "4979e7e8-fa51-4c06-b912-91e1617d2ea8",
   "metadata": {},
   "outputs": [],
   "source": [
    "moyenne_age_par_genre = sp.groupby('Gender')['Age'].mean()\n",
    "moyenne_partner_age_par_genre = sp.groupby('Gender')['Partner age'].mean() #On observe que la moyenne d'age est la meme pour les deux sexes."
   ]
  },
  {
   "cell_type": "code",
   "execution_count": 13,
   "id": "732b21ad-05f9-43c9-a849-9d6fc442d281",
   "metadata": {},
   "outputs": [
    {
     "data": {
      "text/plain": [
       "Text(0.5, 1.0, \"Moyenne d'age du partenaire par genre\")"
      ]
     },
     "execution_count": 13,
     "metadata": {},
     "output_type": "execute_result"
    },
    {
     "data": {
      "image/png": "[encoded data removed]",
      "text/plain": [
       "<Figure size 1152x576 with 2 Axes>"
      ]
     },
     "metadata": {
      "needs_background": "light"
     },
     "output_type": "display_data"
    }
   ],
   "source": [
    "plt.figure(figsize=(16,8))\n",
    "plt.subplot(1,2,1)\n",
    "plt.bar(moyenne_age_par_genre.index, moyenne_age_par_genre.values, edgecolor='white')\n",
    "plt.ylabel(\"Age Moyen\")\n",
    "plt.title(\"Moyenne d'age par genre\")\n",
    "\n",
    "plt.subplot(1,2,2)\n",
    "plt.bar(moyenne_partner_age_par_genre.index, moyenne_partner_age_par_genre.values, edgecolor='white')\n",
    "plt.ylabel(\"Age Moyen\")\n",
    "plt.title(\"Moyenne d'age du partenaire par genre\")"
   ]
  },
  {
   "cell_type": "code",
   "execution_count": 14,
   "id": "e4743193-87ac-48ed-9248-093116cb2590",
   "metadata": {},
   "outputs": [],
   "source": [
    "nbre_matchs_positifs_per_wave = sp[sp['Match']=='yes'].groupby('Wave')['Match'].value_counts()\n",
    "nbre_matchs_positifs_per_wave\n",
    "nbre_matchs_negatifs_per_wave = sp[sp['Match']=='no'].groupby('Wave')['Match'].value_counts()"
   ]
  },
  {
   "cell_type": "code",
   "execution_count": 15,
   "id": "3c68feb0-631a-4615-83d9-6456d9bb7656",
   "metadata": {},
   "outputs": [
    {
     "data": {
      "text/plain": [
       "<matplotlib.legend.Legend at 0x7ffb0c575b50>"
      ]
     },
     "execution_count": 15,
     "metadata": {},
     "output_type": "execute_result"
    },
    {
     "data": {
      "image/png": "[encoded data removed]",
      "text/plain": [
       "<Figure size 1152x576 with 1 Axes>"
      ]
     },
     "metadata": {
      "needs_background": "light"
     },
     "output_type": "display_data"
    }
   ],
   "source": [
    "plt.figure(figsize=(16,8))\n",
    "ind = np.arange(len(nbre_matchs_positifs_per_wave))\n",
    "width = 0.25\n",
    "plt.bar(ind - width/2, nbre_matchs_positifs_per_wave.values, width, color='green', label='Yes match par vague')\n",
    "plt.bar(ind + width/2, nbre_matchs_negatifs_per_wave.values, width, color='red', label='No match par vague')\n",
    "\n",
    "plt.ylabel(\"Nombre\")\n",
    "plt.xlabel(\"Vagues\")\n",
    "plt.title(\"Matchs positifs vs matchs negatifs par genre\")\n",
    "plt.legend()"
   ]
  },
  {
   "cell_type": "code",
   "execution_count": 16,
   "id": "bdc25c2b-3f6b-412b-abf5-2b61ac2e350b",
   "metadata": {},
   "outputs": [
    {
     "name": "stdout",
     "output_type": "stream",
     "text": [
      "no     2750\n",
      "yes     566\n",
      "Name: Match, dtype: int64\n",
      "no     4248\n",
      "yes     814\n",
      "Name: Match, dtype: int64\n"
     ]
    }
   ],
   "source": [
    "nbre_matchs_per_samerace = sp[sp['Samerace']=='yes']['Match'].value_counts()\n",
    "nbre_matchs_not_samerace = sp[sp['Samerace']=='no']['Match'].value_counts()\n",
    "print(nbre_matchs_per_samerace)\n",
    "print(nbre_matchs_not_samerace)"
   ]
  },
  {
   "cell_type": "code",
   "execution_count": 17,
   "id": "e79ca019-75f3-4f44-80b7-2dff3a152ce1",
   "metadata": {},
   "outputs": [
    {
     "data": {
      "text/plain": [
       "Text(0.5, 1.0, 'rapport de matchs pour des races différentes')"
      ]
     },
     "execution_count": 17,
     "metadata": {},
     "output_type": "execute_result"
    },
    {
     "data": {
      "image/png": "[encoded data removed]",
      "text/plain": [
       "<Figure size 1152x576 with 2 Axes>"
      ]
     },
     "metadata": {
      "needs_background": "light"
     },
     "output_type": "display_data"
    }
   ],
   "source": [
    "plt.figure(figsize=(16,8))\n",
    "plt.subplot(2,1,1)\n",
    "plt.bar(nbre_matchs_per_samerace.index, nbre_matchs_per_samerace.values)\n",
    "plt.title(\"rapport de matchs pour la même race\")\n",
    "plt.subplot(2,1,2)\n",
    "plt.bar(nbre_matchs_not_samerace.index, nbre_matchs_not_samerace.values)\n",
    "plt.title(\"rapport de matchs pour des races différentes\")"
   ]
  },
  {
   "cell_type": "code",
   "execution_count": 18,
   "id": "2cde6153-c5d9-4546-8143-1c730670f32f",
   "metadata": {
    "tags": []
   },
   "outputs": [
    {
     "data": {
      "text/plain": [
       "Partner race\n",
       "Asian/Pacific Islander/Asian-American    267\n",
       "Black/African American                    85\n",
       "European/Caucasian-American              788\n",
       "Latino/Hispanic American                 123\n",
       "Other                                    103\n",
       "Name: Match, dtype: int64"
      ]
     },
     "execution_count": 18,
     "metadata": {},
     "output_type": "execute_result"
    }
   ],
   "source": [
    "nbre_matchs_positifs_per_race = sp[sp['Match']=='yes'].groupby('Partner race')['Match'].count()\n",
    "nbre_matchs_positifs_per_race"
   ]
  },
  {
   "cell_type": "code",
   "execution_count": 19,
   "id": "06b56698-73cf-4252-8a64-ee528eb05336",
   "metadata": {},
   "outputs": [],
   "source": [
    "nbre_personnes_par_race = sp.groupby('Race')['Iid'].nunique()\n",
    "no_match_per_race = sp[sp['Match']=='no'].groupby('Partner race')['Match'].count()"
   ]
  },
  {
   "cell_type": "code",
   "execution_count": 20,
   "id": "f839ad3a-b68c-45a4-a8ea-75d95688dda8",
   "metadata": {},
   "outputs": [
    {
     "data": {
      "image/png": "[encoded data removed]",
      "text/plain": [
       "<Figure size 720x360 with 1 Axes>"
      ]
     },
     "metadata": {},
     "output_type": "display_data"
    },
    {
     "data": {
      "image/png": "[encoded data removed]",
      "text/plain": [
       "<Figure size 432x288 with 1 Axes>"
      ]
     },
     "metadata": {},
     "output_type": "display_data"
    },
    {
     "data": {
      "text/plain": [
       "<matplotlib.legend.Legend at 0x7ffb0c387220>"
      ]
     },
     "execution_count": 20,
     "metadata": {},
     "output_type": "execute_result"
    },
    {
     "data": {
      "image/png": "[encoded data removed]",
      "text/plain": [
       "<Figure size 432x288 with 1 Axes>"
      ]
     },
     "metadata": {},
     "output_type": "display_data"
    }
   ],
   "source": [
    "plt.figure(figsize=(10,5))\n",
    "plt.subplot(3,1,1)\n",
    "plt.pie(nbre_matchs_positifs_per_race,\n",
    "       autopct='%1.1f%%',\n",
    "       shadow=True,\n",
    "       startangle=90,\n",
    "       radius=1.5)\n",
    "plt.legend(nbre_matchs_positifs_per_race.index, bbox_to_anchor=(1,1.15))\n",
    "plt.show()\n",
    "\n",
    "plt.subplot(3,1,2)\n",
    "plt.pie(nbre_personnes_par_race,\n",
    "       autopct='%1.1f%%',\n",
    "       shadow=True,\n",
    "       startangle=90,\n",
    "       radius=1.5)\n",
    "plt.legend(nbre_personnes_par_race.index, bbox_to_anchor=(1,1.15))\n",
    "plt.show()\n",
    "\n",
    "plt.subplot(3,1,3)\n",
    "plt.pie(no_match_per_race,\n",
    "       autopct='%1.1f%%',\n",
    "       shadow=True,\n",
    "       startangle=90,\n",
    "       radius=1.5)\n",
    "plt.legend(no_match_per_race.index, bbox_to_anchor=(1,1.15))"
   ]
  },
  {
   "cell_type": "code",
   "execution_count": 21,
   "id": "cb88609d-4d1f-4adf-bb56-07cc1d83cce3",
   "metadata": {
    "tags": []
   },
   "outputs": [],
   "source": [
    "nbre_matchs_per_race= sp.groupby('Partner race')['Match'].count()"
   ]
  },
  {
   "cell_type": "code",
   "execution_count": 22,
   "id": "61ee3271-a41a-4c54-a0c8-7a39a4c7df14",
   "metadata": {},
   "outputs": [
    {
     "data": {
      "text/plain": [
       "Gender\n",
       "Female    0.217319\n",
       "Male      0.217319\n",
       "Name: Correlation of interests, dtype: float64"
      ]
     },
     "execution_count": 22,
     "metadata": {},
     "output_type": "execute_result"
    }
   ],
   "source": [
    "sp[sp['Match']=='yes'].groupby('Gender')['Correlation of interests'].mean()"
   ]
  },
  {
   "cell_type": "code",
   "execution_count": 23,
   "id": "e97b22a0-ef23-4152-bed3-a72f4a59add1",
   "metadata": {},
   "outputs": [
    {
     "data": {
      "text/plain": [
       "Match\n",
       "no     0.191822\n",
       "yes    0.217319\n",
       "Name: Correlation of interests, dtype: float64"
      ]
     },
     "execution_count": 23,
     "metadata": {},
     "output_type": "execute_result"
    }
   ],
   "source": [
    "sp.groupby('Match')['Correlation of interests'].mean()"
   ]
  },
  {
   "cell_type": "code",
   "execution_count": 24,
   "id": "1c517fcf-e03f-4542-8642-bb4f6e483748",
   "metadata": {},
   "outputs": [
    {
     "data": {
      "text/plain": [
       "Iid\n",
       "1      0.267000\n",
       "2      0.258000\n",
       "3     -0.136000\n",
       "4     -0.007000\n",
       "5     -0.079000\n",
       "         ...   \n",
       "548    0.048182\n",
       "549    0.192727\n",
       "550    0.406818\n",
       "551    0.320909\n",
       "552    0.460000\n",
       "Name: Correlation of interests, Length: 551, dtype: float64"
      ]
     },
     "execution_count": 24,
     "metadata": {},
     "output_type": "execute_result"
    }
   ],
   "source": [
    "sp.groupby('Iid')['Correlation of interests'].mean()"
   ]
  },
  {
   "cell_type": "code",
   "execution_count": 25,
   "id": "b87646c5-f6c1-4abd-bb3b-a1fdabd26e2a",
   "metadata": {},
   "outputs": [],
   "source": [
    "partner_preferences = pd.DataFrame(sp.loc[:, 'Pf_o_att':'Pf_o_sha'], index=sp['Partner iid'])"
   ]
  },
  {
   "cell_type": "code",
   "execution_count": 26,
   "id": "53096d41-9244-45a4-aeee-83cdb7c44490",
   "metadata": {},
   "outputs": [],
   "source": [
    "partner_preferences['Partner decision'] = sp['Partner decision']"
   ]
  },
  {
   "cell_type": "code",
   "execution_count": 27,
   "id": "fa90ed2d-e8d7-45f1-aad4-07f75025df6d",
   "metadata": {},
   "outputs": [],
   "source": [
    "partner_preferences['Wave'] = sp['Wave']\n",
    "partner_preferences['Partner race'] = sp['Partner race']\n",
    "partner_preferences['Match'] = sp['Match']"
   ]
  },
  {
   "cell_type": "code",
   "execution_count": 28,
   "id": "324ed83d-51eb-4fcc-a76c-bf5a87532924",
   "metadata": {},
   "outputs": [
    {
     "data": {
      "text/html": [
       "<div>\n",
       "<style scoped>\n",
       "    .dataframe tbody tr th:only-of-type {\n",
       "        vertical-align: middle;\n",
       "    }\n",
       "\n",
       "    .dataframe tbody tr th {\n",
       "        vertical-align: top;\n",
       "    }\n",
       "\n",
       "    .dataframe thead th {\n",
       "        text-align: right;\n",
       "    }\n",
       "</style>\n",
       "<table border=\"1\" class=\"dataframe\">\n",
       "  <thead>\n",
       "    <tr style=\"text-align: right;\">\n",
       "      <th></th>\n",
       "      <th>Pf_o_att</th>\n",
       "      <th>Pf_o_sin</th>\n",
       "      <th>Pf_o_int</th>\n",
       "      <th>Pf_o_fun</th>\n",
       "      <th>Pf_o_amb</th>\n",
       "      <th>Pf_o_sha</th>\n",
       "      <th>Partner decision</th>\n",
       "      <th>Wave</th>\n",
       "      <th>Partner race</th>\n",
       "      <th>Match</th>\n",
       "    </tr>\n",
       "    <tr>\n",
       "      <th>Partner iid</th>\n",
       "      <th></th>\n",
       "      <th></th>\n",
       "      <th></th>\n",
       "      <th></th>\n",
       "      <th></th>\n",
       "      <th></th>\n",
       "      <th></th>\n",
       "      <th></th>\n",
       "      <th></th>\n",
       "      <th></th>\n",
       "    </tr>\n",
       "  </thead>\n",
       "  <tbody>\n",
       "    <tr>\n",
       "      <th>12</th>\n",
       "      <td>19.00</td>\n",
       "      <td>18.00</td>\n",
       "      <td>19.00</td>\n",
       "      <td>18.00</td>\n",
       "      <td>14.00</td>\n",
       "      <td>12.00</td>\n",
       "      <td>yes</td>\n",
       "      <td>1.0</td>\n",
       "      <td>Asian/Pacific Islander/Asian-American</td>\n",
       "      <td>no</td>\n",
       "    </tr>\n",
       "    <tr>\n",
       "      <th>13</th>\n",
       "      <td>30.00</td>\n",
       "      <td>5.00</td>\n",
       "      <td>15.00</td>\n",
       "      <td>40.00</td>\n",
       "      <td>5.00</td>\n",
       "      <td>5.00</td>\n",
       "      <td>yes</td>\n",
       "      <td>1.0</td>\n",
       "      <td>European/Caucasian-American</td>\n",
       "      <td>yes</td>\n",
       "    </tr>\n",
       "    <tr>\n",
       "      <th>14</th>\n",
       "      <td>30.00</td>\n",
       "      <td>10.00</td>\n",
       "      <td>20.00</td>\n",
       "      <td>10.00</td>\n",
       "      <td>10.00</td>\n",
       "      <td>20.00</td>\n",
       "      <td>yes</td>\n",
       "      <td>1.0</td>\n",
       "      <td>Latino/Hispanic American</td>\n",
       "      <td>no</td>\n",
       "    </tr>\n",
       "    <tr>\n",
       "      <th>15</th>\n",
       "      <td>50.00</td>\n",
       "      <td>0.00</td>\n",
       "      <td>30.00</td>\n",
       "      <td>10.00</td>\n",
       "      <td>0.00</td>\n",
       "      <td>10.00</td>\n",
       "      <td>yes</td>\n",
       "      <td>1.0</td>\n",
       "      <td>European/Caucasian-American</td>\n",
       "      <td>no</td>\n",
       "    </tr>\n",
       "    <tr>\n",
       "      <th>17</th>\n",
       "      <td>33.33</td>\n",
       "      <td>11.11</td>\n",
       "      <td>11.11</td>\n",
       "      <td>11.11</td>\n",
       "      <td>11.11</td>\n",
       "      <td>22.22</td>\n",
       "      <td>yes</td>\n",
       "      <td>1.0</td>\n",
       "      <td>European/Caucasian-American</td>\n",
       "      <td>no</td>\n",
       "    </tr>\n",
       "  </tbody>\n",
       "</table>\n",
       "</div>"
      ],
      "text/plain": [
       "             Pf_o_att  Pf_o_sin  Pf_o_int  Pf_o_fun  Pf_o_amb  Pf_o_sha  \\\n",
       "Partner iid                                                               \n",
       "12              19.00     18.00     19.00     18.00     14.00     12.00   \n",
       "13              30.00      5.00     15.00     40.00      5.00      5.00   \n",
       "14              30.00     10.00     20.00     10.00     10.00     20.00   \n",
       "15              50.00      0.00     30.00     10.00      0.00     10.00   \n",
       "17              33.33     11.11     11.11     11.11     11.11     22.22   \n",
       "\n",
       "            Partner decision  Wave                           Partner race  \\\n",
       "Partner iid                                                                 \n",
       "12                       yes   1.0  Asian/Pacific Islander/Asian-American   \n",
       "13                       yes   1.0            European/Caucasian-American   \n",
       "14                       yes   1.0               Latino/Hispanic American   \n",
       "15                       yes   1.0            European/Caucasian-American   \n",
       "17                       yes   1.0            European/Caucasian-American   \n",
       "\n",
       "            Match  \n",
       "Partner iid        \n",
       "12             no  \n",
       "13            yes  \n",
       "14             no  \n",
       "15             no  \n",
       "17             no  "
      ]
     },
     "execution_count": 28,
     "metadata": {},
     "output_type": "execute_result"
    }
   ],
   "source": [
    "partner_preferences[partner_preferences['Partner decision']=='yes'].head()"
   ]
  },
  {
   "cell_type": "code",
   "execution_count": 29,
   "id": "e89c4b48-2bfd-4006-8422-517c2848bbfc",
   "metadata": {
    "tags": []
   },
   "outputs": [],
   "source": [
    "pp_list = ['Pf_o_att','Pf_o_sin','Pf_o_int','Pf_o_fun','Pf_o_amb','Pf_o_sha']"
   ]
  },
  {
   "cell_type": "code",
   "execution_count": 30,
   "id": "df75a412-afb1-4123-bfb4-886b4ac7afb7",
   "metadata": {
    "tags": []
   },
   "outputs": [
    {
     "name": "stdout",
     "output_type": "stream",
     "text": [
      " Pf_o_att: 27.807221151529724\n",
      " Pf_o_sin: 16.60459527824621\n",
      " Pf_o_int: 21.668640086726068\n",
      " Pf_o_fun: 18.41548422066973\n",
      " Pf_o_amb: 7.029191761021445\n",
      " Pf_o_sha: 9.18761744158034\n"
     ]
    }
   ],
   "source": [
    "for x in pp_list:\n",
    "    print(f\" {x}: {partner_preferences[x].mean()}\") #moyenne des attentes du partenaire\n",
    "#attractif, intelligent et marrant"
   ]
  },
  {
   "cell_type": "code",
   "execution_count": 31,
   "id": "f9106e95-9c94-40be-8cb3-145cc6aaada2",
   "metadata": {},
   "outputs": [],
   "source": [
    "dic_attentes_partenaire = {\n",
    "    'Pf_o_att':27.807221151529724,\n",
    "    'Pf_o_sin':16.60459527824621,\n",
    "    'Pf_o_int':21.668640086726068,\n",
    "    'Pf_o_fun':18.41548422066973,\n",
    "    'Pf_o_amb':7.029191761021445,\n",
    "    'Pf_o_sha':9.18761744158034\n",
    "}"
   ]
  },
  {
   "cell_type": "code",
   "execution_count": 32,
   "id": "d8884b88-6bb8-476f-93e0-6f85cb61ea70",
   "metadata": {},
   "outputs": [
    {
     "data": {
      "text/plain": [
       "<BarContainer object of 6 artists>"
      ]
     },
     "execution_count": 32,
     "metadata": {},
     "output_type": "execute_result"
    },
    {
     "data": {
      "image/png": "[encoded data removed]",
      "text/plain": [
       "<Figure size 1152x576 with 1 Axes>"
      ]
     },
     "metadata": {
      "needs_background": "light"
     },
     "output_type": "display_data"
    }
   ],
   "source": [
    "x, y = zip(*sorted(list(dic_attentes_partenaire.items()))) #technique pas mal pour un plot rapide \n",
    "\n",
    "plt.figure(figsize=(16,8))\n",
    "plt.bar(x, y)"
   ]
  },
  {
   "cell_type": "code",
   "execution_count": 33,
   "id": "adc1e57d-e191-4eeb-8976-6db763475d29",
   "metadata": {},
   "outputs": [],
   "source": [
    "attractive_by_race = partner_preferences.groupby('Partner race')['Pf_o_att'].mean()\n",
    "sincere_by_race = partner_preferences.groupby('Partner race')['Pf_o_sin'].mean()\n",
    "intelligent_by_race = partner_preferences.groupby('Partner race')['Pf_o_int'].mean()\n",
    "fun_by_race = partner_preferences.groupby('Partner race')['Pf_o_fun'].mean()\n",
    "ambitious_by_race = partner_preferences.groupby('Partner race')['Pf_o_amb'].mean()\n",
    "shared_by_race = partner_preferences.groupby('Partner race')['Pf_o_sha'].mean()\n"
   ]
  },
  {
   "cell_type": "code",
   "execution_count": 34,
   "id": "cf4316fa-7bcd-498e-bb20-6e1269ae4dac",
   "metadata": {},
   "outputs": [
    {
     "data": {
      "text/plain": [
       "Partner race\n",
       "Asian/Pacific Islander/Asian-American     8.365620\n",
       "Black/African American                   10.000000\n",
       "European/Caucasian-American               5.762377\n",
       "Latino/Hispanic American                 14.726562\n",
       "Other                                    10.000000\n",
       "Name: Pf_o_amb, dtype: float64"
      ]
     },
     "execution_count": 34,
     "metadata": {},
     "output_type": "execute_result"
    }
   ],
   "source": [
    "ambitious_by_race"
   ]
  },
  {
   "cell_type": "code",
   "execution_count": null,
   "id": "d1f82753-9a48-46a1-94cb-479c959b0efd",
   "metadata": {},
   "outputs": [],
   "source": []
  },
  {
   "cell_type": "code",
   "execution_count": 35,
   "id": "6453e0e0-c0e7-49fb-ac93-8352c0abb1cb",
   "metadata": {
    "tags": []
   },
   "outputs": [
    {
     "data": {
      "text/html": [
       "<div>\n",
       "<style scoped>\n",
       "    .dataframe tbody tr th:only-of-type {\n",
       "        vertical-align: middle;\n",
       "    }\n",
       "\n",
       "    .dataframe tbody tr th {\n",
       "        vertical-align: top;\n",
       "    }\n",
       "\n",
       "    .dataframe thead th {\n",
       "        text-align: right;\n",
       "    }\n",
       "</style>\n",
       "<table border=\"1\" class=\"dataframe\">\n",
       "  <thead>\n",
       "    <tr style=\"text-align: right;\">\n",
       "      <th></th>\n",
       "      <th>Pf_o_att</th>\n",
       "      <th>Pf_o_sin</th>\n",
       "      <th>Pf_o_int</th>\n",
       "      <th>Pf_o_fun</th>\n",
       "      <th>Pf_o_amb</th>\n",
       "      <th>Pf_o_sha</th>\n",
       "      <th>Partner decision</th>\n",
       "      <th>Wave</th>\n",
       "      <th>Partner race</th>\n",
       "      <th>Match</th>\n",
       "    </tr>\n",
       "    <tr>\n",
       "      <th>Partner iid</th>\n",
       "      <th></th>\n",
       "      <th></th>\n",
       "      <th></th>\n",
       "      <th></th>\n",
       "      <th></th>\n",
       "      <th></th>\n",
       "      <th></th>\n",
       "      <th></th>\n",
       "      <th></th>\n",
       "      <th></th>\n",
       "    </tr>\n",
       "  </thead>\n",
       "  <tbody>\n",
       "    <tr>\n",
       "      <th>11</th>\n",
       "      <td>60.00</td>\n",
       "      <td>0.00</td>\n",
       "      <td>0.00</td>\n",
       "      <td>40.00</td>\n",
       "      <td>0.00</td>\n",
       "      <td>0.00</td>\n",
       "      <td>no</td>\n",
       "      <td>1.0</td>\n",
       "      <td>European/Caucasian-American</td>\n",
       "      <td>no</td>\n",
       "    </tr>\n",
       "    <tr>\n",
       "      <th>12</th>\n",
       "      <td>19.00</td>\n",
       "      <td>18.00</td>\n",
       "      <td>19.00</td>\n",
       "      <td>18.00</td>\n",
       "      <td>14.00</td>\n",
       "      <td>12.00</td>\n",
       "      <td>yes</td>\n",
       "      <td>1.0</td>\n",
       "      <td>Asian/Pacific Islander/Asian-American</td>\n",
       "      <td>no</td>\n",
       "    </tr>\n",
       "    <tr>\n",
       "      <th>13</th>\n",
       "      <td>30.00</td>\n",
       "      <td>5.00</td>\n",
       "      <td>15.00</td>\n",
       "      <td>40.00</td>\n",
       "      <td>5.00</td>\n",
       "      <td>5.00</td>\n",
       "      <td>yes</td>\n",
       "      <td>1.0</td>\n",
       "      <td>European/Caucasian-American</td>\n",
       "      <td>yes</td>\n",
       "    </tr>\n",
       "    <tr>\n",
       "      <th>14</th>\n",
       "      <td>30.00</td>\n",
       "      <td>10.00</td>\n",
       "      <td>20.00</td>\n",
       "      <td>10.00</td>\n",
       "      <td>10.00</td>\n",
       "      <td>20.00</td>\n",
       "      <td>yes</td>\n",
       "      <td>1.0</td>\n",
       "      <td>Latino/Hispanic American</td>\n",
       "      <td>no</td>\n",
       "    </tr>\n",
       "    <tr>\n",
       "      <th>15</th>\n",
       "      <td>50.00</td>\n",
       "      <td>0.00</td>\n",
       "      <td>30.00</td>\n",
       "      <td>10.00</td>\n",
       "      <td>0.00</td>\n",
       "      <td>10.00</td>\n",
       "      <td>yes</td>\n",
       "      <td>1.0</td>\n",
       "      <td>European/Caucasian-American</td>\n",
       "      <td>no</td>\n",
       "    </tr>\n",
       "    <tr>\n",
       "      <th>16</th>\n",
       "      <td>35.00</td>\n",
       "      <td>15.00</td>\n",
       "      <td>25.00</td>\n",
       "      <td>10.00</td>\n",
       "      <td>5.00</td>\n",
       "      <td>10.00</td>\n",
       "      <td>no</td>\n",
       "      <td>1.0</td>\n",
       "      <td>European/Caucasian-American</td>\n",
       "      <td>no</td>\n",
       "    </tr>\n",
       "    <tr>\n",
       "      <th>17</th>\n",
       "      <td>33.33</td>\n",
       "      <td>11.11</td>\n",
       "      <td>11.11</td>\n",
       "      <td>11.11</td>\n",
       "      <td>11.11</td>\n",
       "      <td>22.22</td>\n",
       "      <td>yes</td>\n",
       "      <td>1.0</td>\n",
       "      <td>European/Caucasian-American</td>\n",
       "      <td>no</td>\n",
       "    </tr>\n",
       "    <tr>\n",
       "      <th>18</th>\n",
       "      <td>50.00</td>\n",
       "      <td>0.00</td>\n",
       "      <td>25.00</td>\n",
       "      <td>10.00</td>\n",
       "      <td>0.00</td>\n",
       "      <td>15.00</td>\n",
       "      <td>yes</td>\n",
       "      <td>1.0</td>\n",
       "      <td>European/Caucasian-American</td>\n",
       "      <td>yes</td>\n",
       "    </tr>\n",
       "    <tr>\n",
       "      <th>19</th>\n",
       "      <td>100.00</td>\n",
       "      <td>0.00</td>\n",
       "      <td>0.00</td>\n",
       "      <td>0.00</td>\n",
       "      <td>0.00</td>\n",
       "      <td>0.00</td>\n",
       "      <td>no</td>\n",
       "      <td>1.0</td>\n",
       "      <td>European/Caucasian-American</td>\n",
       "      <td>no</td>\n",
       "    </tr>\n",
       "    <tr>\n",
       "      <th>20</th>\n",
       "      <td>35.00</td>\n",
       "      <td>20.00</td>\n",
       "      <td>20.00</td>\n",
       "      <td>20.00</td>\n",
       "      <td>0.00</td>\n",
       "      <td>5.00</td>\n",
       "      <td>no</td>\n",
       "      <td>1.0</td>\n",
       "      <td>European/Caucasian-American</td>\n",
       "      <td>no</td>\n",
       "    </tr>\n",
       "    <tr>\n",
       "      <th>11</th>\n",
       "      <td>60.00</td>\n",
       "      <td>0.00</td>\n",
       "      <td>0.00</td>\n",
       "      <td>40.00</td>\n",
       "      <td>0.00</td>\n",
       "      <td>0.00</td>\n",
       "      <td>no</td>\n",
       "      <td>1.0</td>\n",
       "      <td>European/Caucasian-American</td>\n",
       "      <td>no</td>\n",
       "    </tr>\n",
       "    <tr>\n",
       "      <th>12</th>\n",
       "      <td>19.00</td>\n",
       "      <td>18.00</td>\n",
       "      <td>19.00</td>\n",
       "      <td>18.00</td>\n",
       "      <td>14.00</td>\n",
       "      <td>12.00</td>\n",
       "      <td>yes</td>\n",
       "      <td>1.0</td>\n",
       "      <td>Asian/Pacific Islander/Asian-American</td>\n",
       "      <td>no</td>\n",
       "    </tr>\n",
       "    <tr>\n",
       "      <th>13</th>\n",
       "      <td>30.00</td>\n",
       "      <td>5.00</td>\n",
       "      <td>15.00</td>\n",
       "      <td>40.00</td>\n",
       "      <td>5.00</td>\n",
       "      <td>5.00</td>\n",
       "      <td>yes</td>\n",
       "      <td>1.0</td>\n",
       "      <td>European/Caucasian-American</td>\n",
       "      <td>yes</td>\n",
       "    </tr>\n",
       "    <tr>\n",
       "      <th>14</th>\n",
       "      <td>30.00</td>\n",
       "      <td>10.00</td>\n",
       "      <td>20.00</td>\n",
       "      <td>10.00</td>\n",
       "      <td>10.00</td>\n",
       "      <td>20.00</td>\n",
       "      <td>yes</td>\n",
       "      <td>1.0</td>\n",
       "      <td>Latino/Hispanic American</td>\n",
       "      <td>no</td>\n",
       "    </tr>\n",
       "    <tr>\n",
       "      <th>15</th>\n",
       "      <td>50.00</td>\n",
       "      <td>0.00</td>\n",
       "      <td>30.00</td>\n",
       "      <td>10.00</td>\n",
       "      <td>0.00</td>\n",
       "      <td>10.00</td>\n",
       "      <td>yes</td>\n",
       "      <td>1.0</td>\n",
       "      <td>European/Caucasian-American</td>\n",
       "      <td>no</td>\n",
       "    </tr>\n",
       "  </tbody>\n",
       "</table>\n",
       "</div>"
      ],
      "text/plain": [
       "             Pf_o_att  Pf_o_sin  Pf_o_int  Pf_o_fun  Pf_o_amb  Pf_o_sha  \\\n",
       "Partner iid                                                               \n",
       "11              60.00      0.00      0.00     40.00      0.00      0.00   \n",
       "12              19.00     18.00     19.00     18.00     14.00     12.00   \n",
       "13              30.00      5.00     15.00     40.00      5.00      5.00   \n",
       "14              30.00     10.00     20.00     10.00     10.00     20.00   \n",
       "15              50.00      0.00     30.00     10.00      0.00     10.00   \n",
       "16              35.00     15.00     25.00     10.00      5.00     10.00   \n",
       "17              33.33     11.11     11.11     11.11     11.11     22.22   \n",
       "18              50.00      0.00     25.00     10.00      0.00     15.00   \n",
       "19             100.00      0.00      0.00      0.00      0.00      0.00   \n",
       "20              35.00     20.00     20.00     20.00      0.00      5.00   \n",
       "11              60.00      0.00      0.00     40.00      0.00      0.00   \n",
       "12              19.00     18.00     19.00     18.00     14.00     12.00   \n",
       "13              30.00      5.00     15.00     40.00      5.00      5.00   \n",
       "14              30.00     10.00     20.00     10.00     10.00     20.00   \n",
       "15              50.00      0.00     30.00     10.00      0.00     10.00   \n",
       "\n",
       "            Partner decision  Wave                           Partner race  \\\n",
       "Partner iid                                                                 \n",
       "11                        no   1.0            European/Caucasian-American   \n",
       "12                       yes   1.0  Asian/Pacific Islander/Asian-American   \n",
       "13                       yes   1.0            European/Caucasian-American   \n",
       "14                       yes   1.0               Latino/Hispanic American   \n",
       "15                       yes   1.0            European/Caucasian-American   \n",
       "16                        no   1.0            European/Caucasian-American   \n",
       "17                       yes   1.0            European/Caucasian-American   \n",
       "18                       yes   1.0            European/Caucasian-American   \n",
       "19                        no   1.0            European/Caucasian-American   \n",
       "20                        no   1.0            European/Caucasian-American   \n",
       "11                        no   1.0            European/Caucasian-American   \n",
       "12                       yes   1.0  Asian/Pacific Islander/Asian-American   \n",
       "13                       yes   1.0            European/Caucasian-American   \n",
       "14                       yes   1.0               Latino/Hispanic American   \n",
       "15                       yes   1.0            European/Caucasian-American   \n",
       "\n",
       "            Match  \n",
       "Partner iid        \n",
       "11             no  \n",
       "12             no  \n",
       "13            yes  \n",
       "14             no  \n",
       "15             no  \n",
       "16             no  \n",
       "17             no  \n",
       "18            yes  \n",
       "19             no  \n",
       "20             no  \n",
       "11             no  \n",
       "12             no  \n",
       "13            yes  \n",
       "14             no  \n",
       "15             no  "
      ]
     },
     "execution_count": 35,
     "metadata": {},
     "output_type": "execute_result"
    }
   ],
   "source": [
    "partner_preferences.head(15)"
   ]
  },
  {
   "cell_type": "code",
   "execution_count": 36,
   "id": "318ea979-09d8-4b62-b255-f46e7ac95440",
   "metadata": {},
   "outputs": [],
   "source": [
    "subject_ratings_of_partner = pd.DataFrame(sp.loc[:, 'Attr_o':'Met_o'], index=sp['Iid'])\n",
    "#Nous allons pouvoir analyser ce qui a poussé les gens a dire oui ou non"
   ]
  },
  {
   "cell_type": "code",
   "execution_count": 37,
   "id": "7f932c2b-d9b6-49ab-a6ac-ae02e52455df",
   "metadata": {},
   "outputs": [],
   "source": [
    "subject_ratings_of_partner['Gender'] = sp['Gender']\n",
    "subject_ratings_of_partner['Iid'] = sp['Iid']\n",
    "subject_ratings_of_partner['Dec'] = sp['Dec']\n",
    "subject_ratings_of_partner['Match'] = sp['Match']"
   ]
  },
  {
   "cell_type": "code",
   "execution_count": 38,
   "id": "67aaaa6c-3bdd-4012-b4b2-dc0ed52564be",
   "metadata": {},
   "outputs": [
    {
     "data": {
      "text/plain": [
       "Attr_o      1.014562\n",
       "Sinc_o      2.315588\n",
       "Intel_o     2.828837\n",
       "Fun_o       2.721413\n",
       "Amb_o       5.633803\n",
       "Shar_o     13.774170\n",
       "Like_o      1.098114\n",
       "Prob_o      4.619241\n",
       "Met_o       1.682979\n",
       "Gender      0.000000\n",
       "Iid         0.000000\n",
       "Dec         0.000000\n",
       "Match       0.000000\n",
       "dtype: float64"
      ]
     },
     "execution_count": 38,
     "metadata": {},
     "output_type": "execute_result"
    }
   ],
   "source": [
    "subject_ratings_of_partner.isnull().sum()*100/subject_ratings_of_partner.shape[0]"
   ]
  },
  {
   "cell_type": "code",
   "execution_count": 39,
   "id": "15538f25-b5c3-48c6-a81c-4ab8b4e8717d",
   "metadata": {},
   "outputs": [],
   "source": [
    "subject_ratings_of_partner = subject_ratings_of_partner.dropna()"
   ]
  },
  {
   "cell_type": "code",
   "execution_count": 40,
   "id": "54c5ccd1-5a9f-4b62-9468-73f233ff05d8",
   "metadata": {},
   "outputs": [
    {
     "data": {
      "text/html": [
       "<div>\n",
       "<style scoped>\n",
       "    .dataframe tbody tr th:only-of-type {\n",
       "        vertical-align: middle;\n",
       "    }\n",
       "\n",
       "    .dataframe tbody tr th {\n",
       "        vertical-align: top;\n",
       "    }\n",
       "\n",
       "    .dataframe thead th {\n",
       "        text-align: right;\n",
       "    }\n",
       "</style>\n",
       "<table border=\"1\" class=\"dataframe\">\n",
       "  <thead>\n",
       "    <tr style=\"text-align: right;\">\n",
       "      <th></th>\n",
       "      <th>Attr_o</th>\n",
       "      <th>Sinc_o</th>\n",
       "      <th>Intel_o</th>\n",
       "      <th>Fun_o</th>\n",
       "      <th>Amb_o</th>\n",
       "      <th>Shar_o</th>\n",
       "      <th>Like_o</th>\n",
       "      <th>Prob_o</th>\n",
       "      <th>Met_o</th>\n",
       "      <th>Gender</th>\n",
       "      <th>Iid</th>\n",
       "      <th>Dec</th>\n",
       "      <th>Match</th>\n",
       "    </tr>\n",
       "    <tr>\n",
       "      <th>Iid</th>\n",
       "      <th></th>\n",
       "      <th></th>\n",
       "      <th></th>\n",
       "      <th></th>\n",
       "      <th></th>\n",
       "      <th></th>\n",
       "      <th></th>\n",
       "      <th></th>\n",
       "      <th></th>\n",
       "      <th></th>\n",
       "      <th></th>\n",
       "      <th></th>\n",
       "      <th></th>\n",
       "    </tr>\n",
       "  </thead>\n",
       "  <tbody>\n",
       "    <tr>\n",
       "      <th>1</th>\n",
       "      <td>7.0</td>\n",
       "      <td>8.0</td>\n",
       "      <td>10.0</td>\n",
       "      <td>7.0</td>\n",
       "      <td>7.0</td>\n",
       "      <td>5.0</td>\n",
       "      <td>8.0</td>\n",
       "      <td>4.0</td>\n",
       "      <td>2.0</td>\n",
       "      <td>Female</td>\n",
       "      <td>1</td>\n",
       "      <td>yes</td>\n",
       "      <td>no</td>\n",
       "    </tr>\n",
       "    <tr>\n",
       "      <th>1</th>\n",
       "      <td>7.0</td>\n",
       "      <td>8.0</td>\n",
       "      <td>10.0</td>\n",
       "      <td>7.0</td>\n",
       "      <td>7.0</td>\n",
       "      <td>5.0</td>\n",
       "      <td>8.0</td>\n",
       "      <td>4.0</td>\n",
       "      <td>2.0</td>\n",
       "      <td>Female</td>\n",
       "      <td>1</td>\n",
       "      <td>yes</td>\n",
       "      <td>no</td>\n",
       "    </tr>\n",
       "    <tr>\n",
       "      <th>1</th>\n",
       "      <td>7.0</td>\n",
       "      <td>8.0</td>\n",
       "      <td>10.0</td>\n",
       "      <td>7.0</td>\n",
       "      <td>7.0</td>\n",
       "      <td>5.0</td>\n",
       "      <td>8.0</td>\n",
       "      <td>4.0</td>\n",
       "      <td>2.0</td>\n",
       "      <td>Female</td>\n",
       "      <td>1</td>\n",
       "      <td>yes</td>\n",
       "      <td>no</td>\n",
       "    </tr>\n",
       "    <tr>\n",
       "      <th>1</th>\n",
       "      <td>7.0</td>\n",
       "      <td>8.0</td>\n",
       "      <td>10.0</td>\n",
       "      <td>7.0</td>\n",
       "      <td>7.0</td>\n",
       "      <td>5.0</td>\n",
       "      <td>8.0</td>\n",
       "      <td>4.0</td>\n",
       "      <td>2.0</td>\n",
       "      <td>Female</td>\n",
       "      <td>1</td>\n",
       "      <td>yes</td>\n",
       "      <td>no</td>\n",
       "    </tr>\n",
       "    <tr>\n",
       "      <th>1</th>\n",
       "      <td>7.0</td>\n",
       "      <td>8.0</td>\n",
       "      <td>10.0</td>\n",
       "      <td>7.0</td>\n",
       "      <td>7.0</td>\n",
       "      <td>5.0</td>\n",
       "      <td>8.0</td>\n",
       "      <td>4.0</td>\n",
       "      <td>2.0</td>\n",
       "      <td>Female</td>\n",
       "      <td>1</td>\n",
       "      <td>yes</td>\n",
       "      <td>no</td>\n",
       "    </tr>\n",
       "    <tr>\n",
       "      <th>1</th>\n",
       "      <td>7.0</td>\n",
       "      <td>8.0</td>\n",
       "      <td>10.0</td>\n",
       "      <td>7.0</td>\n",
       "      <td>7.0</td>\n",
       "      <td>5.0</td>\n",
       "      <td>8.0</td>\n",
       "      <td>4.0</td>\n",
       "      <td>2.0</td>\n",
       "      <td>Female</td>\n",
       "      <td>1</td>\n",
       "      <td>yes</td>\n",
       "      <td>no</td>\n",
       "    </tr>\n",
       "    <tr>\n",
       "      <th>1</th>\n",
       "      <td>7.0</td>\n",
       "      <td>8.0</td>\n",
       "      <td>10.0</td>\n",
       "      <td>7.0</td>\n",
       "      <td>7.0</td>\n",
       "      <td>5.0</td>\n",
       "      <td>8.0</td>\n",
       "      <td>4.0</td>\n",
       "      <td>2.0</td>\n",
       "      <td>Female</td>\n",
       "      <td>1</td>\n",
       "      <td>yes</td>\n",
       "      <td>no</td>\n",
       "    </tr>\n",
       "    <tr>\n",
       "      <th>1</th>\n",
       "      <td>7.0</td>\n",
       "      <td>8.0</td>\n",
       "      <td>10.0</td>\n",
       "      <td>7.0</td>\n",
       "      <td>7.0</td>\n",
       "      <td>5.0</td>\n",
       "      <td>8.0</td>\n",
       "      <td>4.0</td>\n",
       "      <td>2.0</td>\n",
       "      <td>Female</td>\n",
       "      <td>1</td>\n",
       "      <td>yes</td>\n",
       "      <td>no</td>\n",
       "    </tr>\n",
       "    <tr>\n",
       "      <th>1</th>\n",
       "      <td>7.0</td>\n",
       "      <td>8.0</td>\n",
       "      <td>10.0</td>\n",
       "      <td>7.0</td>\n",
       "      <td>7.0</td>\n",
       "      <td>5.0</td>\n",
       "      <td>8.0</td>\n",
       "      <td>4.0</td>\n",
       "      <td>2.0</td>\n",
       "      <td>Female</td>\n",
       "      <td>1</td>\n",
       "      <td>yes</td>\n",
       "      <td>no</td>\n",
       "    </tr>\n",
       "    <tr>\n",
       "      <th>1</th>\n",
       "      <td>7.0</td>\n",
       "      <td>8.0</td>\n",
       "      <td>10.0</td>\n",
       "      <td>7.0</td>\n",
       "      <td>7.0</td>\n",
       "      <td>5.0</td>\n",
       "      <td>8.0</td>\n",
       "      <td>4.0</td>\n",
       "      <td>2.0</td>\n",
       "      <td>Female</td>\n",
       "      <td>1</td>\n",
       "      <td>yes</td>\n",
       "      <td>no</td>\n",
       "    </tr>\n",
       "  </tbody>\n",
       "</table>\n",
       "</div>"
      ],
      "text/plain": [
       "     Attr_o  Sinc_o  Intel_o  Fun_o  Amb_o  Shar_o  Like_o  Prob_o  Met_o  \\\n",
       "Iid                                                                         \n",
       "1       7.0     8.0     10.0    7.0    7.0     5.0     8.0     4.0    2.0   \n",
       "1       7.0     8.0     10.0    7.0    7.0     5.0     8.0     4.0    2.0   \n",
       "1       7.0     8.0     10.0    7.0    7.0     5.0     8.0     4.0    2.0   \n",
       "1       7.0     8.0     10.0    7.0    7.0     5.0     8.0     4.0    2.0   \n",
       "1       7.0     8.0     10.0    7.0    7.0     5.0     8.0     4.0    2.0   \n",
       "1       7.0     8.0     10.0    7.0    7.0     5.0     8.0     4.0    2.0   \n",
       "1       7.0     8.0     10.0    7.0    7.0     5.0     8.0     4.0    2.0   \n",
       "1       7.0     8.0     10.0    7.0    7.0     5.0     8.0     4.0    2.0   \n",
       "1       7.0     8.0     10.0    7.0    7.0     5.0     8.0     4.0    2.0   \n",
       "1       7.0     8.0     10.0    7.0    7.0     5.0     8.0     4.0    2.0   \n",
       "\n",
       "     Gender  Iid  Dec Match  \n",
       "Iid                          \n",
       "1    Female    1  yes    no  \n",
       "1    Female    1  yes    no  \n",
       "1    Female    1  yes    no  \n",
       "1    Female    1  yes    no  \n",
       "1    Female    1  yes    no  \n",
       "1    Female    1  yes    no  \n",
       "1    Female    1  yes    no  \n",
       "1    Female    1  yes    no  \n",
       "1    Female    1  yes    no  \n",
       "1    Female    1  yes    no  "
      ]
     },
     "execution_count": 40,
     "metadata": {},
     "output_type": "execute_result"
    }
   ],
   "source": [
    "subject_ratings_of_partner.head(10)"
   ]
  },
  {
   "cell_type": "code",
   "execution_count": 41,
   "id": "eb1ab67f-1121-47d8-9cd3-1c06dde455d5",
   "metadata": {
    "tags": []
   },
   "outputs": [],
   "source": [
    "sr_list = ['Attr_o','Sinc_o','Intel_o','Fun_o','Amb_o','Shar_o']"
   ]
  },
  {
   "cell_type": "code",
   "execution_count": 42,
   "id": "b6112b96-9e13-45eb-921f-c76274522428",
   "metadata": {
    "tags": []
   },
   "outputs": [
    {
     "name": "stdout",
     "output_type": "stream",
     "text": [
      "Gender\n",
      "Female    6.531357\n",
      "Name: Attr_o, dtype: float64\n",
      "Gender\n",
      "Male    5.40536\n",
      "Name: Attr_o, dtype: float64\n",
      "Gender\n",
      "Female    7.214761\n",
      "Name: Sinc_o, dtype: float64\n",
      "Gender\n",
      "Male    7.030151\n",
      "Name: Sinc_o, dtype: float64\n",
      "Gender\n",
      "Female    7.430127\n",
      "Name: Intel_o, dtype: float64\n",
      "Gender\n",
      "Male    7.420994\n",
      "Name: Intel_o, dtype: float64\n",
      "Gender\n",
      "Female    6.722726\n",
      "Name: Fun_o, dtype: float64\n",
      "Gender\n",
      "Male    5.876605\n",
      "Name: Fun_o, dtype: float64\n",
      "Gender\n",
      "Female    6.915709\n",
      "Name: Amb_o, dtype: float64\n",
      "Gender\n",
      "Male    6.750419\n",
      "Name: Amb_o, dtype: float64\n",
      "Gender\n",
      "Female    5.615648\n",
      "Name: Shar_o, dtype: float64\n",
      "Gender\n",
      "Male    5.316583\n",
      "Name: Shar_o, dtype: float64\n"
     ]
    }
   ],
   "source": [
    "for x in sr_list:\n",
    "    print(subject_ratings_of_partner[subject_ratings_of_partner['Gender']=='Female'].groupby('Gender')[x].mean())\n",
    "    print(subject_ratings_of_partner[subject_ratings_of_partner['Gender']=='Male'].groupby('Gender')[x].mean())"
   ]
  },
  {
   "cell_type": "code",
   "execution_count": 43,
   "id": "b10290f5-ac86-4d17-9853-e44893bb4474",
   "metadata": {},
   "outputs": [],
   "source": [
    "att_mean = subject_ratings_of_partner[subject_ratings_of_partner['Dec']=='yes'].groupby('Gender')['Attr_o'].mean()\n",
    "sinc_mean = subject_ratings_of_partner[subject_ratings_of_partner['Dec']=='yes'].groupby('Gender')['Sinc_o'].mean()\n",
    "intel_mean = subject_ratings_of_partner[subject_ratings_of_partner['Dec']=='yes'].groupby('Gender')['Intel_o'].mean()\n",
    "fun_mean = subject_ratings_of_partner[subject_ratings_of_partner['Dec']=='yes'].groupby('Gender')['Fun_o'].mean()\n",
    "amb_mean = subject_ratings_of_partner[subject_ratings_of_partner['Dec']=='yes'].groupby('Gender')['Amb_o'].mean()\n",
    "shar_mean = subject_ratings_of_partner[subject_ratings_of_partner['Dec']=='yes'].groupby('Gender')['Shar_o'].mean()"
   ]
  },
  {
   "cell_type": "code",
   "execution_count": 44,
   "id": "a4d96577-a129-4a20-b457-89392439657b",
   "metadata": {},
   "outputs": [
    {
     "data": {
      "text/plain": [
       "<matplotlib.legend.Legend at 0x7ffb0c134fd0>"
      ]
     },
     "execution_count": 44,
     "metadata": {},
     "output_type": "execute_result"
    },
    {
     "data": {
      "image/png": "[encoded data removed]",
      "text/plain": [
       "<Figure size 720x720 with 6 Axes>"
      ]
     },
     "metadata": {
      "needs_background": "light"
     },
     "output_type": "display_data"
    }
   ],
   "source": [
    "plt.figure(figsize=(10,10))\n",
    "\n",
    "plt.subplot(3,3,1)\n",
    "plt.bar(att_mean.index, att_mean.values, color='orange', label = 'Attractive')\n",
    "plt.legend()\n",
    "\n",
    "plt.subplot(3,3,2)\n",
    "plt.bar(sinc_mean.index, sinc_mean.values, color='lightblue', label='Sincère')\n",
    "plt.legend()\n",
    "plt.title(\"Note moyenne sur 10 des attributs par genre\")\n",
    "\n",
    "plt.subplot(3,3,3)\n",
    "plt.bar(intel_mean.index, intel_mean.values, label='Intelligent')\n",
    "plt.legend()\n",
    "\n",
    "plt.subplot(3,3,4)\n",
    "plt.bar(fun_mean.index, fun_mean.values, color='red', label=\"Fun\")\n",
    "plt.legend()\n",
    "\n",
    "plt.subplot(3,3,5)\n",
    "plt.bar(amb_mean.index, amb_mean.values, color='gold', label='Ambitious')\n",
    "plt.legend()\n",
    "\n",
    "plt.subplot(3,3,6)\n",
    "plt.bar(shar_mean.index, shar_mean, color='lightgreen', label=\"Shared interests\")\n",
    "plt.legend()\n",
    "\n"
   ]
  },
  {
   "cell_type": "code",
   "execution_count": 45,
   "id": "8144f370-2a55-42d6-8f19-aac99c1e060d",
   "metadata": {},
   "outputs": [],
   "source": [
    "goal_per_femme = sp[sp['Gender']=='Female'].groupby('Iid')['Goal'].unique() #goal pour chaque femme\n",
    "goal_per_homme = sp[sp['Gender']=='Male'].groupby('Iid')['Goal'].unique() #goal pour chaque homme\n",
    "\n",
    "date_per_femme = sp[sp['Gender']=='Female'].groupby('Iid')['Date'].unique()\n",
    "date_per_homme = sp[sp['Gender']=='Male'].groupby('Iid')['Date'].unique()\n",
    "\n",
    "go_out_per_femme = sp[sp['Gender']=='Female'].groupby('Iid')['Go_out'].unique()\n",
    "go_out_per_homme = sp[sp['Gender']=='Male'].groupby('Iid')['Go_out'].unique()"
   ]
  },
  {
   "cell_type": "code",
   "execution_count": 108,
   "id": "e6217e21-c937-4588-a270-51502cdd59d6",
   "metadata": {},
   "outputs": [
    {
     "data": {
      "text/plain": [
       "Goal\n",
       "Looking for a serious relationship     3.592743\n",
       "Other                                  5.001194\n",
       "Seemed like a fun night out           40.892815\n",
       "To get a date                          7.531630\n",
       "To meet new people                    35.951301\n",
       "To say I did it                        6.087372\n",
       "Name: Iid, dtype: float64"
      ]
     },
     "execution_count": 108,
     "metadata": {},
     "output_type": "execute_result"
    }
   ],
   "source": [
    "sp.groupby('Goal')['Iid'].count()*100 / len(sp)"
   ]
  },
  {
   "cell_type": "code",
   "execution_count": 46,
   "id": "4013eaac-d0ab-48be-8fb6-dd72351ce2f3",
   "metadata": {},
   "outputs": [
    {
     "data": {
      "text/html": [
       "<div>\n",
       "<style scoped>\n",
       "    .dataframe tbody tr th:only-of-type {\n",
       "        vertical-align: middle;\n",
       "    }\n",
       "\n",
       "    .dataframe tbody tr th {\n",
       "        vertical-align: top;\n",
       "    }\n",
       "\n",
       "    .dataframe thead th {\n",
       "        text-align: right;\n",
       "    }\n",
       "</style>\n",
       "<table border=\"1\" class=\"dataframe\">\n",
       "  <thead>\n",
       "    <tr style=\"text-align: right;\">\n",
       "      <th></th>\n",
       "      <th>Pf_o_amb</th>\n",
       "      <th>Pf_o_sha</th>\n",
       "      <th>Partner decision</th>\n",
       "      <th>Attr_o</th>\n",
       "      <th>Sinc_o</th>\n",
       "      <th>Intel_o</th>\n",
       "      <th>Fun_o</th>\n",
       "      <th>Amb_o</th>\n",
       "      <th>Shar_o</th>\n",
       "      <th>Like_o</th>\n",
       "      <th>Prob_o</th>\n",
       "      <th>Met_o</th>\n",
       "      <th>Age</th>\n",
       "      <th>Field</th>\n",
       "      <th>Race</th>\n",
       "      <th>Imprace</th>\n",
       "      <th>Imprelig</th>\n",
       "      <th>From</th>\n",
       "      <th>Goal</th>\n",
       "      <th>Date</th>\n",
       "    </tr>\n",
       "  </thead>\n",
       "  <tbody>\n",
       "    <tr>\n",
       "      <th>0</th>\n",
       "      <td>0.0</td>\n",
       "      <td>5.0</td>\n",
       "      <td>no</td>\n",
       "      <td>6.0</td>\n",
       "      <td>8.0</td>\n",
       "      <td>8.0</td>\n",
       "      <td>8.0</td>\n",
       "      <td>8.0</td>\n",
       "      <td>6.0</td>\n",
       "      <td>7.0</td>\n",
       "      <td>4.0</td>\n",
       "      <td>2.0</td>\n",
       "      <td>21</td>\n",
       "      <td>Law</td>\n",
       "      <td>Asian/Pacific Islander/Asian-American</td>\n",
       "      <td>2</td>\n",
       "      <td>4</td>\n",
       "      <td>Chicago</td>\n",
       "      <td>To meet new people</td>\n",
       "      <td>Almost never</td>\n",
       "    </tr>\n",
       "    <tr>\n",
       "      <th>1</th>\n",
       "      <td>0.0</td>\n",
       "      <td>0.0</td>\n",
       "      <td>no</td>\n",
       "      <td>7.0</td>\n",
       "      <td>8.0</td>\n",
       "      <td>10.0</td>\n",
       "      <td>7.0</td>\n",
       "      <td>7.0</td>\n",
       "      <td>5.0</td>\n",
       "      <td>8.0</td>\n",
       "      <td>4.0</td>\n",
       "      <td>2.0</td>\n",
       "      <td>21</td>\n",
       "      <td>Law</td>\n",
       "      <td>Asian/Pacific Islander/Asian-American</td>\n",
       "      <td>2</td>\n",
       "      <td>4</td>\n",
       "      <td>Chicago</td>\n",
       "      <td>To meet new people</td>\n",
       "      <td>Almost never</td>\n",
       "    </tr>\n",
       "    <tr>\n",
       "      <th>2</th>\n",
       "      <td>14.0</td>\n",
       "      <td>12.0</td>\n",
       "      <td>yes</td>\n",
       "      <td>10.0</td>\n",
       "      <td>10.0</td>\n",
       "      <td>10.0</td>\n",
       "      <td>10.0</td>\n",
       "      <td>10.0</td>\n",
       "      <td>10.0</td>\n",
       "      <td>10.0</td>\n",
       "      <td>10.0</td>\n",
       "      <td>1.0</td>\n",
       "      <td>21</td>\n",
       "      <td>Law</td>\n",
       "      <td>Asian/Pacific Islander/Asian-American</td>\n",
       "      <td>2</td>\n",
       "      <td>4</td>\n",
       "      <td>Chicago</td>\n",
       "      <td>To meet new people</td>\n",
       "      <td>Almost never</td>\n",
       "    </tr>\n",
       "    <tr>\n",
       "      <th>3</th>\n",
       "      <td>5.0</td>\n",
       "      <td>5.0</td>\n",
       "      <td>yes</td>\n",
       "      <td>7.0</td>\n",
       "      <td>8.0</td>\n",
       "      <td>9.0</td>\n",
       "      <td>8.0</td>\n",
       "      <td>9.0</td>\n",
       "      <td>8.0</td>\n",
       "      <td>7.0</td>\n",
       "      <td>7.0</td>\n",
       "      <td>2.0</td>\n",
       "      <td>21</td>\n",
       "      <td>Law</td>\n",
       "      <td>Asian/Pacific Islander/Asian-American</td>\n",
       "      <td>2</td>\n",
       "      <td>4</td>\n",
       "      <td>Chicago</td>\n",
       "      <td>To meet new people</td>\n",
       "      <td>Almost never</td>\n",
       "    </tr>\n",
       "    <tr>\n",
       "      <th>4</th>\n",
       "      <td>10.0</td>\n",
       "      <td>20.0</td>\n",
       "      <td>yes</td>\n",
       "      <td>8.0</td>\n",
       "      <td>7.0</td>\n",
       "      <td>9.0</td>\n",
       "      <td>6.0</td>\n",
       "      <td>9.0</td>\n",
       "      <td>7.0</td>\n",
       "      <td>8.0</td>\n",
       "      <td>6.0</td>\n",
       "      <td>2.0</td>\n",
       "      <td>21</td>\n",
       "      <td>Law</td>\n",
       "      <td>Asian/Pacific Islander/Asian-American</td>\n",
       "      <td>2</td>\n",
       "      <td>4</td>\n",
       "      <td>Chicago</td>\n",
       "      <td>To meet new people</td>\n",
       "      <td>Almost never</td>\n",
       "    </tr>\n",
       "  </tbody>\n",
       "</table>\n",
       "</div>"
      ],
      "text/plain": [
       "   Pf_o_amb  Pf_o_sha Partner decision  Attr_o  Sinc_o  Intel_o  Fun_o  Amb_o  \\\n",
       "0       0.0       5.0               no     6.0     8.0      8.0    8.0    8.0   \n",
       "1       0.0       0.0               no     7.0     8.0     10.0    7.0    7.0   \n",
       "2      14.0      12.0              yes    10.0    10.0     10.0   10.0   10.0   \n",
       "3       5.0       5.0              yes     7.0     8.0      9.0    8.0    9.0   \n",
       "4      10.0      20.0              yes     8.0     7.0      9.0    6.0    9.0   \n",
       "\n",
       "   Shar_o  Like_o  Prob_o  Met_o  Age Field  \\\n",
       "0     6.0     7.0     4.0    2.0   21   Law   \n",
       "1     5.0     8.0     4.0    2.0   21   Law   \n",
       "2    10.0    10.0    10.0    1.0   21   Law   \n",
       "3     8.0     7.0     7.0    2.0   21   Law   \n",
       "4     7.0     8.0     6.0    2.0   21   Law   \n",
       "\n",
       "                                    Race  Imprace  Imprelig     From  \\\n",
       "0  Asian/Pacific Islander/Asian-American        2         4  Chicago   \n",
       "1  Asian/Pacific Islander/Asian-American        2         4  Chicago   \n",
       "2  Asian/Pacific Islander/Asian-American        2         4  Chicago   \n",
       "3  Asian/Pacific Islander/Asian-American        2         4  Chicago   \n",
       "4  Asian/Pacific Islander/Asian-American        2         4  Chicago   \n",
       "\n",
       "                 Goal          Date  \n",
       "0  To meet new people  Almost never  \n",
       "1  To meet new people  Almost never  \n",
       "2  To meet new people  Almost never  \n",
       "3  To meet new people  Almost never  \n",
       "4  To meet new people  Almost never  "
      ]
     },
     "execution_count": 46,
     "metadata": {},
     "output_type": "execute_result"
    }
   ],
   "source": [
    "sp.iloc[:, 20:40].head()"
   ]
  },
  {
   "cell_type": "code",
   "execution_count": 47,
   "id": "ce67c875-4ca2-4609-94c1-24234f02cde3",
   "metadata": {},
   "outputs": [],
   "source": [
    "hobbies = pd.DataFrame(sp.loc[:, 'Sports':'Yoga'], index=sp['Iid'])"
   ]
  },
  {
   "cell_type": "code",
   "execution_count": 48,
   "id": "335df648-b7ab-44c4-8016-15d8537fcdbe",
   "metadata": {
    "tags": []
   },
   "outputs": [],
   "source": [
    "hobbies['Match'] = sp['Match']"
   ]
  },
  {
   "cell_type": "code",
   "execution_count": 49,
   "id": "41c6ddf4-9e1c-4001-8e91-23a7c5335554",
   "metadata": {},
   "outputs": [],
   "source": [
    "hobbies['Gender'] = sp['Gender']"
   ]
  },
  {
   "cell_type": "code",
   "execution_count": 50,
   "id": "5a97ee65-e1a0-4320-bdd0-8f41a73dce17",
   "metadata": {},
   "outputs": [
    {
     "data": {
      "text/html": [
       "<div>\n",
       "<style scoped>\n",
       "    .dataframe tbody tr th:only-of-type {\n",
       "        vertical-align: middle;\n",
       "    }\n",
       "\n",
       "    .dataframe tbody tr th {\n",
       "        vertical-align: top;\n",
       "    }\n",
       "\n",
       "    .dataframe thead th {\n",
       "        text-align: right;\n",
       "    }\n",
       "</style>\n",
       "<table border=\"1\" class=\"dataframe\">\n",
       "  <thead>\n",
       "    <tr style=\"text-align: right;\">\n",
       "      <th></th>\n",
       "      <th>Sports</th>\n",
       "      <th>Tvsports</th>\n",
       "      <th>Exercise</th>\n",
       "      <th>Dining</th>\n",
       "      <th>Museums</th>\n",
       "      <th>Art</th>\n",
       "      <th>Hiking</th>\n",
       "      <th>Gaming</th>\n",
       "      <th>Clubbing</th>\n",
       "      <th>Reading</th>\n",
       "      <th>Tv</th>\n",
       "      <th>Theater</th>\n",
       "      <th>Movies</th>\n",
       "      <th>Concerts</th>\n",
       "      <th>Music</th>\n",
       "      <th>Shopping</th>\n",
       "      <th>Yoga</th>\n",
       "      <th>Match</th>\n",
       "      <th>Gender</th>\n",
       "    </tr>\n",
       "    <tr>\n",
       "      <th>Iid</th>\n",
       "      <th></th>\n",
       "      <th></th>\n",
       "      <th></th>\n",
       "      <th></th>\n",
       "      <th></th>\n",
       "      <th></th>\n",
       "      <th></th>\n",
       "      <th></th>\n",
       "      <th></th>\n",
       "      <th></th>\n",
       "      <th></th>\n",
       "      <th></th>\n",
       "      <th></th>\n",
       "      <th></th>\n",
       "      <th></th>\n",
       "      <th></th>\n",
       "      <th></th>\n",
       "      <th></th>\n",
       "      <th></th>\n",
       "    </tr>\n",
       "  </thead>\n",
       "  <tbody>\n",
       "    <tr>\n",
       "      <th>1</th>\n",
       "      <td>9.0</td>\n",
       "      <td>2.0</td>\n",
       "      <td>8.0</td>\n",
       "      <td>9.0</td>\n",
       "      <td>1.0</td>\n",
       "      <td>1.0</td>\n",
       "      <td>5.0</td>\n",
       "      <td>1.0</td>\n",
       "      <td>5.0</td>\n",
       "      <td>6.0</td>\n",
       "      <td>9.0</td>\n",
       "      <td>1.0</td>\n",
       "      <td>10.0</td>\n",
       "      <td>10.0</td>\n",
       "      <td>9.0</td>\n",
       "      <td>8.0</td>\n",
       "      <td>1.0</td>\n",
       "      <td>no</td>\n",
       "      <td>Female</td>\n",
       "    </tr>\n",
       "    <tr>\n",
       "      <th>1</th>\n",
       "      <td>9.0</td>\n",
       "      <td>2.0</td>\n",
       "      <td>8.0</td>\n",
       "      <td>9.0</td>\n",
       "      <td>1.0</td>\n",
       "      <td>1.0</td>\n",
       "      <td>5.0</td>\n",
       "      <td>1.0</td>\n",
       "      <td>5.0</td>\n",
       "      <td>6.0</td>\n",
       "      <td>9.0</td>\n",
       "      <td>1.0</td>\n",
       "      <td>10.0</td>\n",
       "      <td>10.0</td>\n",
       "      <td>9.0</td>\n",
       "      <td>8.0</td>\n",
       "      <td>1.0</td>\n",
       "      <td>no</td>\n",
       "      <td>Female</td>\n",
       "    </tr>\n",
       "    <tr>\n",
       "      <th>1</th>\n",
       "      <td>9.0</td>\n",
       "      <td>2.0</td>\n",
       "      <td>8.0</td>\n",
       "      <td>9.0</td>\n",
       "      <td>1.0</td>\n",
       "      <td>1.0</td>\n",
       "      <td>5.0</td>\n",
       "      <td>1.0</td>\n",
       "      <td>5.0</td>\n",
       "      <td>6.0</td>\n",
       "      <td>9.0</td>\n",
       "      <td>1.0</td>\n",
       "      <td>10.0</td>\n",
       "      <td>10.0</td>\n",
       "      <td>9.0</td>\n",
       "      <td>8.0</td>\n",
       "      <td>1.0</td>\n",
       "      <td>no</td>\n",
       "      <td>Female</td>\n",
       "    </tr>\n",
       "    <tr>\n",
       "      <th>1</th>\n",
       "      <td>9.0</td>\n",
       "      <td>2.0</td>\n",
       "      <td>8.0</td>\n",
       "      <td>9.0</td>\n",
       "      <td>1.0</td>\n",
       "      <td>1.0</td>\n",
       "      <td>5.0</td>\n",
       "      <td>1.0</td>\n",
       "      <td>5.0</td>\n",
       "      <td>6.0</td>\n",
       "      <td>9.0</td>\n",
       "      <td>1.0</td>\n",
       "      <td>10.0</td>\n",
       "      <td>10.0</td>\n",
       "      <td>9.0</td>\n",
       "      <td>8.0</td>\n",
       "      <td>1.0</td>\n",
       "      <td>no</td>\n",
       "      <td>Female</td>\n",
       "    </tr>\n",
       "    <tr>\n",
       "      <th>1</th>\n",
       "      <td>9.0</td>\n",
       "      <td>2.0</td>\n",
       "      <td>8.0</td>\n",
       "      <td>9.0</td>\n",
       "      <td>1.0</td>\n",
       "      <td>1.0</td>\n",
       "      <td>5.0</td>\n",
       "      <td>1.0</td>\n",
       "      <td>5.0</td>\n",
       "      <td>6.0</td>\n",
       "      <td>9.0</td>\n",
       "      <td>1.0</td>\n",
       "      <td>10.0</td>\n",
       "      <td>10.0</td>\n",
       "      <td>9.0</td>\n",
       "      <td>8.0</td>\n",
       "      <td>1.0</td>\n",
       "      <td>no</td>\n",
       "      <td>Female</td>\n",
       "    </tr>\n",
       "  </tbody>\n",
       "</table>\n",
       "</div>"
      ],
      "text/plain": [
       "     Sports  Tvsports  Exercise  Dining  Museums  Art  Hiking  Gaming  \\\n",
       "Iid                                                                     \n",
       "1       9.0       2.0       8.0     9.0      1.0  1.0     5.0     1.0   \n",
       "1       9.0       2.0       8.0     9.0      1.0  1.0     5.0     1.0   \n",
       "1       9.0       2.0       8.0     9.0      1.0  1.0     5.0     1.0   \n",
       "1       9.0       2.0       8.0     9.0      1.0  1.0     5.0     1.0   \n",
       "1       9.0       2.0       8.0     9.0      1.0  1.0     5.0     1.0   \n",
       "\n",
       "     Clubbing  Reading   Tv  Theater  Movies  Concerts  Music  Shopping  Yoga  \\\n",
       "Iid                                                                             \n",
       "1         5.0      6.0  9.0      1.0    10.0      10.0    9.0       8.0   1.0   \n",
       "1         5.0      6.0  9.0      1.0    10.0      10.0    9.0       8.0   1.0   \n",
       "1         5.0      6.0  9.0      1.0    10.0      10.0    9.0       8.0   1.0   \n",
       "1         5.0      6.0  9.0      1.0    10.0      10.0    9.0       8.0   1.0   \n",
       "1         5.0      6.0  9.0      1.0    10.0      10.0    9.0       8.0   1.0   \n",
       "\n",
       "    Match  Gender  \n",
       "Iid                \n",
       "1      no  Female  \n",
       "1      no  Female  \n",
       "1      no  Female  \n",
       "1      no  Female  \n",
       "1      no  Female  "
      ]
     },
     "execution_count": 50,
     "metadata": {},
     "output_type": "execute_result"
    }
   ],
   "source": [
    "hobbies.head()"
   ]
  },
  {
   "cell_type": "code",
   "execution_count": 51,
   "id": "b1df1148-1aef-4b9d-9672-2d79e9b25438",
   "metadata": {},
   "outputs": [
    {
     "data": {
      "text/plain": [
       "Gender\n",
       "Female    5.306333\n",
       "Male      5.976642\n",
       "Name: Exphappy, dtype: float64"
      ]
     },
     "execution_count": 51,
     "metadata": {},
     "output_type": "execute_result"
    }
   ],
   "source": [
    "sp[sp['Match']=='yes'].groupby('Gender')['Exphappy'].mean()"
   ]
  },
  {
   "cell_type": "code",
   "execution_count": 52,
   "id": "60c6b45c-cbe5-4c87-8308-088b2e00fb99",
   "metadata": {},
   "outputs": [
    {
     "data": {
      "text/plain": [
       "Gender\n",
       "Female    5.131133\n",
       "Male      5.887074\n",
       "Name: Exphappy, dtype: float64"
      ]
     },
     "execution_count": 52,
     "metadata": {},
     "output_type": "execute_result"
    }
   ],
   "source": [
    "sp[sp['Match']=='no'].groupby('Gender')['Exphappy'].mean()"
   ]
  },
  {
   "cell_type": "code",
   "execution_count": 53,
   "id": "08615f65-9e78-4fe1-993d-eb2427c6fdfe",
   "metadata": {},
   "outputs": [
    {
     "data": {
      "text/html": [
       "<div>\n",
       "<style scoped>\n",
       "    .dataframe tbody tr th:only-of-type {\n",
       "        vertical-align: middle;\n",
       "    }\n",
       "\n",
       "    .dataframe tbody tr th {\n",
       "        vertical-align: top;\n",
       "    }\n",
       "\n",
       "    .dataframe thead th {\n",
       "        text-align: right;\n",
       "    }\n",
       "</style>\n",
       "<table border=\"1\" class=\"dataframe\">\n",
       "  <thead>\n",
       "    <tr style=\"text-align: right;\">\n",
       "      <th></th>\n",
       "      <th>Attr1_1</th>\n",
       "      <th>Sinc1_1</th>\n",
       "      <th>Intel1_1</th>\n",
       "      <th>Fun1_1</th>\n",
       "      <th>Amb1_1</th>\n",
       "      <th>Shar1_1</th>\n",
       "    </tr>\n",
       "  </thead>\n",
       "  <tbody>\n",
       "    <tr>\n",
       "      <th>0</th>\n",
       "      <td>15.0</td>\n",
       "      <td>20.0</td>\n",
       "      <td>20.0</td>\n",
       "      <td>15.0</td>\n",
       "      <td>15.0</td>\n",
       "      <td>15.0</td>\n",
       "    </tr>\n",
       "    <tr>\n",
       "      <th>1</th>\n",
       "      <td>15.0</td>\n",
       "      <td>20.0</td>\n",
       "      <td>20.0</td>\n",
       "      <td>15.0</td>\n",
       "      <td>15.0</td>\n",
       "      <td>15.0</td>\n",
       "    </tr>\n",
       "    <tr>\n",
       "      <th>2</th>\n",
       "      <td>15.0</td>\n",
       "      <td>20.0</td>\n",
       "      <td>20.0</td>\n",
       "      <td>15.0</td>\n",
       "      <td>15.0</td>\n",
       "      <td>15.0</td>\n",
       "    </tr>\n",
       "    <tr>\n",
       "      <th>3</th>\n",
       "      <td>15.0</td>\n",
       "      <td>20.0</td>\n",
       "      <td>20.0</td>\n",
       "      <td>15.0</td>\n",
       "      <td>15.0</td>\n",
       "      <td>15.0</td>\n",
       "    </tr>\n",
       "    <tr>\n",
       "      <th>4</th>\n",
       "      <td>15.0</td>\n",
       "      <td>20.0</td>\n",
       "      <td>20.0</td>\n",
       "      <td>15.0</td>\n",
       "      <td>15.0</td>\n",
       "      <td>15.0</td>\n",
       "    </tr>\n",
       "  </tbody>\n",
       "</table>\n",
       "</div>"
      ],
      "text/plain": [
       "   Attr1_1  Sinc1_1  Intel1_1  Fun1_1  Amb1_1  Shar1_1\n",
       "0     15.0     20.0      20.0    15.0    15.0     15.0\n",
       "1     15.0     20.0      20.0    15.0    15.0     15.0\n",
       "2     15.0     20.0      20.0    15.0    15.0     15.0\n",
       "3     15.0     20.0      20.0    15.0    15.0     15.0\n",
       "4     15.0     20.0      20.0    15.0    15.0     15.0"
      ]
     },
     "execution_count": 53,
     "metadata": {},
     "output_type": "execute_result"
    }
   ],
   "source": [
    "sp.loc[:, 'Attr1_1':'Shar1_1'].head() # Ce que vous cherchez chez l'autre:"
   ]
  },
  {
   "cell_type": "code",
   "execution_count": 54,
   "id": "f68611fd-c526-4802-9371-618df4896d6a",
   "metadata": {},
   "outputs": [
    {
     "data": {
      "text/html": [
       "<div>\n",
       "<style scoped>\n",
       "    .dataframe tbody tr th:only-of-type {\n",
       "        vertical-align: middle;\n",
       "    }\n",
       "\n",
       "    .dataframe tbody tr th {\n",
       "        vertical-align: top;\n",
       "    }\n",
       "\n",
       "    .dataframe thead th {\n",
       "        text-align: right;\n",
       "    }\n",
       "</style>\n",
       "<table border=\"1\" class=\"dataframe\">\n",
       "  <thead>\n",
       "    <tr style=\"text-align: right;\">\n",
       "      <th></th>\n",
       "      <th>Attr4_1</th>\n",
       "      <th>Sinc4_1</th>\n",
       "      <th>Intel4_1</th>\n",
       "      <th>Fun4_1</th>\n",
       "      <th>Amb4_1</th>\n",
       "      <th>Shar4_1</th>\n",
       "    </tr>\n",
       "  </thead>\n",
       "  <tbody>\n",
       "    <tr>\n",
       "      <th>0</th>\n",
       "      <td>NaN</td>\n",
       "      <td>NaN</td>\n",
       "      <td>NaN</td>\n",
       "      <td>NaN</td>\n",
       "      <td>NaN</td>\n",
       "      <td>NaN</td>\n",
       "    </tr>\n",
       "    <tr>\n",
       "      <th>1</th>\n",
       "      <td>NaN</td>\n",
       "      <td>NaN</td>\n",
       "      <td>NaN</td>\n",
       "      <td>NaN</td>\n",
       "      <td>NaN</td>\n",
       "      <td>NaN</td>\n",
       "    </tr>\n",
       "    <tr>\n",
       "      <th>2</th>\n",
       "      <td>NaN</td>\n",
       "      <td>NaN</td>\n",
       "      <td>NaN</td>\n",
       "      <td>NaN</td>\n",
       "      <td>NaN</td>\n",
       "      <td>NaN</td>\n",
       "    </tr>\n",
       "    <tr>\n",
       "      <th>3</th>\n",
       "      <td>NaN</td>\n",
       "      <td>NaN</td>\n",
       "      <td>NaN</td>\n",
       "      <td>NaN</td>\n",
       "      <td>NaN</td>\n",
       "      <td>NaN</td>\n",
       "    </tr>\n",
       "    <tr>\n",
       "      <th>4</th>\n",
       "      <td>NaN</td>\n",
       "      <td>NaN</td>\n",
       "      <td>NaN</td>\n",
       "      <td>NaN</td>\n",
       "      <td>NaN</td>\n",
       "      <td>NaN</td>\n",
       "    </tr>\n",
       "  </tbody>\n",
       "</table>\n",
       "</div>"
      ],
      "text/plain": [
       "   Attr4_1  Sinc4_1  Intel4_1  Fun4_1  Amb4_1  Shar4_1\n",
       "0      NaN      NaN       NaN     NaN     NaN      NaN\n",
       "1      NaN      NaN       NaN     NaN     NaN      NaN\n",
       "2      NaN      NaN       NaN     NaN     NaN      NaN\n",
       "3      NaN      NaN       NaN     NaN     NaN      NaN\n",
       "4      NaN      NaN       NaN     NaN     NaN      NaN"
      ]
     },
     "execution_count": 54,
     "metadata": {},
     "output_type": "execute_result"
    }
   ],
   "source": [
    "# Ce que vous pensez que votre sexe cherche en general : \n",
    "sp.loc[:, 'Attr4_1':'Shar4_1'].head()"
   ]
  },
  {
   "cell_type": "code",
   "execution_count": 55,
   "id": "3d1736bc-997b-4a29-8bde-f36c4c6377df",
   "metadata": {},
   "outputs": [
    {
     "data": {
      "text/html": [
       "<div>\n",
       "<style scoped>\n",
       "    .dataframe tbody tr th:only-of-type {\n",
       "        vertical-align: middle;\n",
       "    }\n",
       "\n",
       "    .dataframe tbody tr th {\n",
       "        vertical-align: top;\n",
       "    }\n",
       "\n",
       "    .dataframe thead th {\n",
       "        text-align: right;\n",
       "    }\n",
       "</style>\n",
       "<table border=\"1\" class=\"dataframe\">\n",
       "  <thead>\n",
       "    <tr style=\"text-align: right;\">\n",
       "      <th></th>\n",
       "      <th>Attr2_1</th>\n",
       "      <th>Sinc2_1</th>\n",
       "      <th>Intel2_1</th>\n",
       "      <th>Fun2_1</th>\n",
       "      <th>Amb2_1</th>\n",
       "      <th>Shar2_1</th>\n",
       "    </tr>\n",
       "  </thead>\n",
       "  <tbody>\n",
       "    <tr>\n",
       "      <th>0</th>\n",
       "      <td>35.0</td>\n",
       "      <td>20.0</td>\n",
       "      <td>15.0</td>\n",
       "      <td>20.0</td>\n",
       "      <td>5.0</td>\n",
       "      <td>5.0</td>\n",
       "    </tr>\n",
       "    <tr>\n",
       "      <th>1</th>\n",
       "      <td>35.0</td>\n",
       "      <td>20.0</td>\n",
       "      <td>15.0</td>\n",
       "      <td>20.0</td>\n",
       "      <td>5.0</td>\n",
       "      <td>5.0</td>\n",
       "    </tr>\n",
       "    <tr>\n",
       "      <th>2</th>\n",
       "      <td>35.0</td>\n",
       "      <td>20.0</td>\n",
       "      <td>15.0</td>\n",
       "      <td>20.0</td>\n",
       "      <td>5.0</td>\n",
       "      <td>5.0</td>\n",
       "    </tr>\n",
       "    <tr>\n",
       "      <th>3</th>\n",
       "      <td>35.0</td>\n",
       "      <td>20.0</td>\n",
       "      <td>15.0</td>\n",
       "      <td>20.0</td>\n",
       "      <td>5.0</td>\n",
       "      <td>5.0</td>\n",
       "    </tr>\n",
       "    <tr>\n",
       "      <th>4</th>\n",
       "      <td>35.0</td>\n",
       "      <td>20.0</td>\n",
       "      <td>15.0</td>\n",
       "      <td>20.0</td>\n",
       "      <td>5.0</td>\n",
       "      <td>5.0</td>\n",
       "    </tr>\n",
       "  </tbody>\n",
       "</table>\n",
       "</div>"
      ],
      "text/plain": [
       "   Attr2_1  Sinc2_1  Intel2_1  Fun2_1  Amb2_1  Shar2_1\n",
       "0     35.0     20.0      15.0    20.0     5.0      5.0\n",
       "1     35.0     20.0      15.0    20.0     5.0      5.0\n",
       "2     35.0     20.0      15.0    20.0     5.0      5.0\n",
       "3     35.0     20.0      15.0    20.0     5.0      5.0\n",
       "4     35.0     20.0      15.0    20.0     5.0      5.0"
      ]
     },
     "execution_count": 55,
     "metadata": {},
     "output_type": "execute_result"
    }
   ],
   "source": [
    "# Ce que vous pensez que l'autre sexe cherche : \n",
    "sp.loc[:, 'Attr2_1':'Shar2_1'].head()"
   ]
  },
  {
   "cell_type": "code",
   "execution_count": 56,
   "id": "1d9b733b-08be-4a34-b19e-7fc791855a0a",
   "metadata": {},
   "outputs": [
    {
     "data": {
      "text/html": [
       "<div>\n",
       "<style scoped>\n",
       "    .dataframe tbody tr th:only-of-type {\n",
       "        vertical-align: middle;\n",
       "    }\n",
       "\n",
       "    .dataframe tbody tr th {\n",
       "        vertical-align: top;\n",
       "    }\n",
       "\n",
       "    .dataframe thead th {\n",
       "        text-align: right;\n",
       "    }\n",
       "</style>\n",
       "<table border=\"1\" class=\"dataframe\">\n",
       "  <thead>\n",
       "    <tr style=\"text-align: right;\">\n",
       "      <th></th>\n",
       "      <th>Attr3_1</th>\n",
       "      <th>Sinc3_1</th>\n",
       "      <th>Fun3_1</th>\n",
       "      <th>Intel3_1</th>\n",
       "      <th>Amb3_1</th>\n",
       "    </tr>\n",
       "  </thead>\n",
       "  <tbody>\n",
       "    <tr>\n",
       "      <th>0</th>\n",
       "      <td>6.0</td>\n",
       "      <td>8.0</td>\n",
       "      <td>8.0</td>\n",
       "      <td>8.0</td>\n",
       "      <td>7.0</td>\n",
       "    </tr>\n",
       "    <tr>\n",
       "      <th>1</th>\n",
       "      <td>6.0</td>\n",
       "      <td>8.0</td>\n",
       "      <td>8.0</td>\n",
       "      <td>8.0</td>\n",
       "      <td>7.0</td>\n",
       "    </tr>\n",
       "    <tr>\n",
       "      <th>2</th>\n",
       "      <td>6.0</td>\n",
       "      <td>8.0</td>\n",
       "      <td>8.0</td>\n",
       "      <td>8.0</td>\n",
       "      <td>7.0</td>\n",
       "    </tr>\n",
       "    <tr>\n",
       "      <th>3</th>\n",
       "      <td>6.0</td>\n",
       "      <td>8.0</td>\n",
       "      <td>8.0</td>\n",
       "      <td>8.0</td>\n",
       "      <td>7.0</td>\n",
       "    </tr>\n",
       "    <tr>\n",
       "      <th>4</th>\n",
       "      <td>6.0</td>\n",
       "      <td>8.0</td>\n",
       "      <td>8.0</td>\n",
       "      <td>8.0</td>\n",
       "      <td>7.0</td>\n",
       "    </tr>\n",
       "  </tbody>\n",
       "</table>\n",
       "</div>"
      ],
      "text/plain": [
       "   Attr3_1  Sinc3_1  Fun3_1  Intel3_1  Amb3_1\n",
       "0      6.0      8.0     8.0       8.0     7.0\n",
       "1      6.0      8.0     8.0       8.0     7.0\n",
       "2      6.0      8.0     8.0       8.0     7.0\n",
       "3      6.0      8.0     8.0       8.0     7.0\n",
       "4      6.0      8.0     8.0       8.0     7.0"
      ]
     },
     "execution_count": 56,
     "metadata": {},
     "output_type": "execute_result"
    }
   ],
   "source": [
    "# Quelle note vous donnez vous sur 10:\n",
    "sp.loc[:, 'Attr3_1':'Amb3_1'].head()"
   ]
  },
  {
   "cell_type": "code",
   "execution_count": 57,
   "id": "d767a011-0d71-492c-b268-a20187b1d10f",
   "metadata": {},
   "outputs": [
    {
     "data": {
      "text/html": [
       "<div>\n",
       "<style scoped>\n",
       "    .dataframe tbody tr th:only-of-type {\n",
       "        vertical-align: middle;\n",
       "    }\n",
       "\n",
       "    .dataframe tbody tr th {\n",
       "        vertical-align: top;\n",
       "    }\n",
       "\n",
       "    .dataframe thead th {\n",
       "        text-align: right;\n",
       "    }\n",
       "</style>\n",
       "<table border=\"1\" class=\"dataframe\">\n",
       "  <thead>\n",
       "    <tr style=\"text-align: right;\">\n",
       "      <th></th>\n",
       "      <th>Iid</th>\n",
       "      <th>Gender</th>\n",
       "      <th>Match</th>\n",
       "      <th>Partner decision</th>\n",
       "      <th>Dec</th>\n",
       "      <th>Match_es</th>\n",
       "    </tr>\n",
       "  </thead>\n",
       "  <tbody>\n",
       "    <tr>\n",
       "      <th>0</th>\n",
       "      <td>1</td>\n",
       "      <td>Female</td>\n",
       "      <td>no</td>\n",
       "      <td>no</td>\n",
       "      <td>yes</td>\n",
       "      <td>4.0</td>\n",
       "    </tr>\n",
       "    <tr>\n",
       "      <th>1</th>\n",
       "      <td>1</td>\n",
       "      <td>Female</td>\n",
       "      <td>no</td>\n",
       "      <td>no</td>\n",
       "      <td>yes</td>\n",
       "      <td>4.0</td>\n",
       "    </tr>\n",
       "    <tr>\n",
       "      <th>2</th>\n",
       "      <td>1</td>\n",
       "      <td>Female</td>\n",
       "      <td>yes</td>\n",
       "      <td>yes</td>\n",
       "      <td>yes</td>\n",
       "      <td>4.0</td>\n",
       "    </tr>\n",
       "    <tr>\n",
       "      <th>3</th>\n",
       "      <td>1</td>\n",
       "      <td>Female</td>\n",
       "      <td>yes</td>\n",
       "      <td>yes</td>\n",
       "      <td>yes</td>\n",
       "      <td>4.0</td>\n",
       "    </tr>\n",
       "    <tr>\n",
       "      <th>4</th>\n",
       "      <td>1</td>\n",
       "      <td>Female</td>\n",
       "      <td>yes</td>\n",
       "      <td>yes</td>\n",
       "      <td>yes</td>\n",
       "      <td>4.0</td>\n",
       "    </tr>\n",
       "    <tr>\n",
       "      <th>...</th>\n",
       "      <td>...</td>\n",
       "      <td>...</td>\n",
       "      <td>...</td>\n",
       "      <td>...</td>\n",
       "      <td>...</td>\n",
       "      <td>...</td>\n",
       "    </tr>\n",
       "    <tr>\n",
       "      <th>8373</th>\n",
       "      <td>552</td>\n",
       "      <td>Male</td>\n",
       "      <td>no</td>\n",
       "      <td>yes</td>\n",
       "      <td>no</td>\n",
       "      <td>3.0</td>\n",
       "    </tr>\n",
       "    <tr>\n",
       "      <th>8374</th>\n",
       "      <td>552</td>\n",
       "      <td>Male</td>\n",
       "      <td>no</td>\n",
       "      <td>no</td>\n",
       "      <td>no</td>\n",
       "      <td>3.0</td>\n",
       "    </tr>\n",
       "    <tr>\n",
       "      <th>8375</th>\n",
       "      <td>552</td>\n",
       "      <td>Male</td>\n",
       "      <td>no</td>\n",
       "      <td>no</td>\n",
       "      <td>no</td>\n",
       "      <td>3.0</td>\n",
       "    </tr>\n",
       "    <tr>\n",
       "      <th>8376</th>\n",
       "      <td>552</td>\n",
       "      <td>Male</td>\n",
       "      <td>no</td>\n",
       "      <td>yes</td>\n",
       "      <td>no</td>\n",
       "      <td>3.0</td>\n",
       "    </tr>\n",
       "    <tr>\n",
       "      <th>8377</th>\n",
       "      <td>552</td>\n",
       "      <td>Male</td>\n",
       "      <td>no</td>\n",
       "      <td>yes</td>\n",
       "      <td>no</td>\n",
       "      <td>3.0</td>\n",
       "    </tr>\n",
       "  </tbody>\n",
       "</table>\n",
       "<p>8378 rows × 6 columns</p>\n",
       "</div>"
      ],
      "text/plain": [
       "      Iid  Gender Match Partner decision  Dec  Match_es\n",
       "0       1  Female    no               no  yes       4.0\n",
       "1       1  Female    no               no  yes       4.0\n",
       "2       1  Female   yes              yes  yes       4.0\n",
       "3       1  Female   yes              yes  yes       4.0\n",
       "4       1  Female   yes              yes  yes       4.0\n",
       "...   ...     ...   ...              ...  ...       ...\n",
       "8373  552    Male    no              yes   no       3.0\n",
       "8374  552    Male    no               no   no       3.0\n",
       "8375  552    Male    no               no   no       3.0\n",
       "8376  552    Male    no              yes   no       3.0\n",
       "8377  552    Male    no              yes   no       3.0\n",
       "\n",
       "[8378 rows x 6 columns]"
      ]
     },
     "execution_count": 57,
     "metadata": {},
     "output_type": "execute_result"
    }
   ],
   "source": [
    "#Décision\n",
    "sp.loc[:, ['Iid','Gender','Match','Partner decision','Dec','Match_es']]"
   ]
  },
  {
   "cell_type": "code",
   "execution_count": null,
   "id": "7b29b5c7-3b55-47ec-a1b7-25d59eae5822",
   "metadata": {},
   "outputs": [],
   "source": []
  },
  {
   "cell_type": "code",
   "execution_count": null,
   "id": "1bb2cd66-38d7-4e6f-b031-5b235a35e27b",
   "metadata": {},
   "outputs": [],
   "source": [
    " "
   ]
  }
 ],
 "metadata": {
  "kernelspec": {
   "display_name": "Python 3 (ipykernel)",
   "language": "python",
   "name": "python3"
  },
  "language_info": {
   "codemirror_mode": {
    "name": "ipython",
    "version": 3
   },
   "file_extension": ".py",
   "mimetype": "text/x-python",
   "name": "python",
   "nbconvert_exporter": "python",
   "pygments_lexer": "ipython3",
   "version": "3.9.7"
  }
 },
 "nbformat": 4,
 "nbformat_minor": 5
}
